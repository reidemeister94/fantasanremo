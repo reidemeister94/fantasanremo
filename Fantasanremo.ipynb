{
 "cells": [
  {
   "cell_type": "code",
   "execution_count": 1,
   "id": "bb8daea1",
   "metadata": {},
   "outputs": [
    {
     "data": {
      "application/javascript": [
       "\n",
       "            setTimeout(function() {\n",
       "                var nbb_cell_id = 1;\n",
       "                var nbb_unformatted_code = \"%load_ext nb_black\";\n",
       "                var nbb_formatted_code = \"%load_ext nb_black\";\n",
       "                var nbb_cells = Jupyter.notebook.get_cells();\n",
       "                for (var i = 0; i < nbb_cells.length; ++i) {\n",
       "                    if (nbb_cells[i].input_prompt_number == nbb_cell_id) {\n",
       "                        if (nbb_cells[i].get_text() == nbb_unformatted_code) {\n",
       "                             nbb_cells[i].set_text(nbb_formatted_code);\n",
       "                        }\n",
       "                        break;\n",
       "                    }\n",
       "                }\n",
       "            }, 500);\n",
       "            "
      ],
      "text/plain": [
       "<IPython.core.display.Javascript object>"
      ]
     },
     "metadata": {},
     "output_type": "display_data"
    }
   ],
   "source": [
    "%load_ext nb_black"
   ]
  },
  {
   "cell_type": "code",
   "execution_count": 144,
   "id": "91aa59a1",
   "metadata": {},
   "outputs": [
    {
     "data": {
      "application/javascript": [
       "\n",
       "            setTimeout(function() {\n",
       "                var nbb_cell_id = 144;\n",
       "                var nbb_unformatted_code = \"from bs4 import BeautifulSoup\\nfrom lxml import etree\\nimport requests\\nfrom lxml.etree import tostring\\nfrom collections import defaultdict\";\n",
       "                var nbb_formatted_code = \"from bs4 import BeautifulSoup\\nfrom lxml import etree\\nimport requests\\nfrom lxml.etree import tostring\\nfrom collections import defaultdict\";\n",
       "                var nbb_cells = Jupyter.notebook.get_cells();\n",
       "                for (var i = 0; i < nbb_cells.length; ++i) {\n",
       "                    if (nbb_cells[i].input_prompt_number == nbb_cell_id) {\n",
       "                        if (nbb_cells[i].get_text() == nbb_unformatted_code) {\n",
       "                             nbb_cells[i].set_text(nbb_formatted_code);\n",
       "                        }\n",
       "                        break;\n",
       "                    }\n",
       "                }\n",
       "            }, 500);\n",
       "            "
      ],
      "text/plain": [
       "<IPython.core.display.Javascript object>"
      ]
     },
     "metadata": {},
     "output_type": "display_data"
    }
   ],
   "source": [
    "from bs4 import BeautifulSoup\n",
    "from lxml import etree\n",
    "import requests\n",
    "from lxml.etree import tostring\n",
    "from collections import defaultdict"
   ]
  },
  {
   "cell_type": "code",
   "execution_count": 166,
   "id": "edc292bd",
   "metadata": {},
   "outputs": [
    {
     "data": {
      "application/javascript": [
       "\n",
       "            setTimeout(function() {\n",
       "                var nbb_cell_id = 166;\n",
       "                var nbb_unformatted_code = \"mapping = {\\n    \\\"mahmood & blanco\\\": \\\"mahmood e blanco\\\",\\n    \\\"rettore & ditonellapiaga\\\": \\\"ditonellapiaga con donatella rettore\\\",\\n    \\\"highsnub & hu\\\": \\\"highsnob e hu\\\",\\n    \\\"aka7even\\\": \\\"aka 7even\\\",\\n    \\\"aka7ven\\\": \\\"aka 7even\\\",\\n    \\\"ditonellapiaga con rettore\\\": \\\"ditonellapiaga con donatella rettore\\\",\\n}\";\n",
       "                var nbb_formatted_code = \"mapping = {\\n    \\\"mahmood & blanco\\\": \\\"mahmood e blanco\\\",\\n    \\\"rettore & ditonellapiaga\\\": \\\"ditonellapiaga con donatella rettore\\\",\\n    \\\"highsnub & hu\\\": \\\"highsnob e hu\\\",\\n    \\\"aka7even\\\": \\\"aka 7even\\\",\\n    \\\"aka7ven\\\": \\\"aka 7even\\\",\\n    \\\"ditonellapiaga con rettore\\\": \\\"ditonellapiaga con donatella rettore\\\",\\n}\";\n",
       "                var nbb_cells = Jupyter.notebook.get_cells();\n",
       "                for (var i = 0; i < nbb_cells.length; ++i) {\n",
       "                    if (nbb_cells[i].input_prompt_number == nbb_cell_id) {\n",
       "                        if (nbb_cells[i].get_text() == nbb_unformatted_code) {\n",
       "                             nbb_cells[i].set_text(nbb_formatted_code);\n",
       "                        }\n",
       "                        break;\n",
       "                    }\n",
       "                }\n",
       "            }, 500);\n",
       "            "
      ],
      "text/plain": [
       "<IPython.core.display.Javascript object>"
      ]
     },
     "metadata": {},
     "output_type": "display_data"
    }
   ],
   "source": [
    "mapping = {\n",
    "    \"mahmood & blanco\": \"mahmood e blanco\",\n",
    "    \"rettore & ditonellapiaga\": \"ditonellapiaga con donatella rettore\",\n",
    "    \"highsnub & hu\": \"highsnob e hu\",\n",
    "    \"aka7even\": \"aka 7even\",\n",
    "    \"aka7ven\": \"aka 7even\",\n",
    "    \"ditonellapiaga con rettore\": \"ditonellapiaga con donatella rettore\",\n",
    "}"
   ]
  },
  {
   "cell_type": "code",
   "execution_count": 167,
   "id": "385cc0ff",
   "metadata": {},
   "outputs": [
    {
     "data": {
      "application/javascript": [
       "\n",
       "            setTimeout(function() {\n",
       "                var nbb_cell_id = 167;\n",
       "                var nbb_unformatted_code = \"bets_map = defaultdict(list)\";\n",
       "                var nbb_formatted_code = \"bets_map = defaultdict(list)\";\n",
       "                var nbb_cells = Jupyter.notebook.get_cells();\n",
       "                for (var i = 0; i < nbb_cells.length; ++i) {\n",
       "                    if (nbb_cells[i].input_prompt_number == nbb_cell_id) {\n",
       "                        if (nbb_cells[i].get_text() == nbb_unformatted_code) {\n",
       "                             nbb_cells[i].set_text(nbb_formatted_code);\n",
       "                        }\n",
       "                        break;\n",
       "                    }\n",
       "                }\n",
       "            }, 500);\n",
       "            "
      ],
      "text/plain": [
       "<IPython.core.display.Javascript object>"
      ]
     },
     "metadata": {},
     "output_type": "display_data"
    }
   ],
   "source": [
    "bets_map = defaultdict(list)"
   ]
  },
  {
   "cell_type": "markdown",
   "id": "7340d61e",
   "metadata": {},
   "source": [
    "### Unibet"
   ]
  },
  {
   "cell_type": "code",
   "execution_count": 168,
   "id": "dae12a3e",
   "metadata": {},
   "outputs": [
    {
     "data": {
      "application/javascript": [
       "\n",
       "            setTimeout(function() {\n",
       "                var nbb_cell_id = 168;\n",
       "                var nbb_unformatted_code = \"bets_page = open(\\\"bets.html\\\", \\\"r\\\").read()\\nbets_soup = BeautifulSoup(bets_page, \\\"html.parser\\\")\";\n",
       "                var nbb_formatted_code = \"bets_page = open(\\\"bets.html\\\", \\\"r\\\").read()\\nbets_soup = BeautifulSoup(bets_page, \\\"html.parser\\\")\";\n",
       "                var nbb_cells = Jupyter.notebook.get_cells();\n",
       "                for (var i = 0; i < nbb_cells.length; ++i) {\n",
       "                    if (nbb_cells[i].input_prompt_number == nbb_cell_id) {\n",
       "                        if (nbb_cells[i].get_text() == nbb_unformatted_code) {\n",
       "                             nbb_cells[i].set_text(nbb_formatted_code);\n",
       "                        }\n",
       "                        break;\n",
       "                    }\n",
       "                }\n",
       "            }, 500);\n",
       "            "
      ],
      "text/plain": [
       "<IPython.core.display.Javascript object>"
      ]
     },
     "metadata": {},
     "output_type": "display_data"
    }
   ],
   "source": [
    "bets_page = open(\"bets.html\", \"r\").read()\n",
    "bets_soup = BeautifulSoup(bets_page, \"html.parser\")"
   ]
  },
  {
   "cell_type": "code",
   "execution_count": 169,
   "id": "e97f172d",
   "metadata": {},
   "outputs": [
    {
     "data": {
      "application/javascript": [
       "\n",
       "            setTimeout(function() {\n",
       "                var nbb_cell_id = 169;\n",
       "                var nbb_unformatted_code = \"dom = etree.HTML(str(bets_soup))\\nrows = dom.xpath(\\\"/html/body/table/tbody//tr\\\")\\nfor row in rows:\\n    singer = row.xpath(\\\"td[3]/a/text()\\\")[0].lower()\\n    if singer in mapping:\\n        singer = mapping[singer]\\n    bet = float(row.xpath(\\\"td[5]/text()\\\")[0])\\n    bets_map[singer].append(bet)\";\n",
       "                var nbb_formatted_code = \"dom = etree.HTML(str(bets_soup))\\nrows = dom.xpath(\\\"/html/body/table/tbody//tr\\\")\\nfor row in rows:\\n    singer = row.xpath(\\\"td[3]/a/text()\\\")[0].lower()\\n    if singer in mapping:\\n        singer = mapping[singer]\\n    bet = float(row.xpath(\\\"td[5]/text()\\\")[0])\\n    bets_map[singer].append(bet)\";\n",
       "                var nbb_cells = Jupyter.notebook.get_cells();\n",
       "                for (var i = 0; i < nbb_cells.length; ++i) {\n",
       "                    if (nbb_cells[i].input_prompt_number == nbb_cell_id) {\n",
       "                        if (nbb_cells[i].get_text() == nbb_unformatted_code) {\n",
       "                             nbb_cells[i].set_text(nbb_formatted_code);\n",
       "                        }\n",
       "                        break;\n",
       "                    }\n",
       "                }\n",
       "            }, 500);\n",
       "            "
      ],
      "text/plain": [
       "<IPython.core.display.Javascript object>"
      ]
     },
     "metadata": {},
     "output_type": "display_data"
    }
   ],
   "source": [
    "dom = etree.HTML(str(bets_soup))\n",
    "rows = dom.xpath(\"/html/body/table/tbody//tr\")\n",
    "for row in rows:\n",
    "    singer = row.xpath(\"td[3]/a/text()\")[0].lower()\n",
    "    if singer in mapping:\n",
    "        singer = mapping[singer]\n",
    "    bet = float(row.xpath(\"td[5]/text()\")[0])\n",
    "    bets_map[singer].append(bet)"
   ]
  },
  {
   "cell_type": "markdown",
   "id": "c6d2a2bb",
   "metadata": {},
   "source": [
    "### Goldbet"
   ]
  },
  {
   "cell_type": "code",
   "execution_count": 170,
   "id": "5e9c0dc5",
   "metadata": {},
   "outputs": [
    {
     "data": {
      "application/javascript": [
       "\n",
       "            setTimeout(function() {\n",
       "                var nbb_cell_id = 170;\n",
       "                var nbb_unformatted_code = \"bets_page = open(\\\"bets_2.html\\\", \\\"r\\\").read()\\nbets_soup = BeautifulSoup(bets_page, \\\"html.parser\\\")\";\n",
       "                var nbb_formatted_code = \"bets_page = open(\\\"bets_2.html\\\", \\\"r\\\").read()\\nbets_soup = BeautifulSoup(bets_page, \\\"html.parser\\\")\";\n",
       "                var nbb_cells = Jupyter.notebook.get_cells();\n",
       "                for (var i = 0; i < nbb_cells.length; ++i) {\n",
       "                    if (nbb_cells[i].input_prompt_number == nbb_cell_id) {\n",
       "                        if (nbb_cells[i].get_text() == nbb_unformatted_code) {\n",
       "                             nbb_cells[i].set_text(nbb_formatted_code);\n",
       "                        }\n",
       "                        break;\n",
       "                    }\n",
       "                }\n",
       "            }, 500);\n",
       "            "
      ],
      "text/plain": [
       "<IPython.core.display.Javascript object>"
      ]
     },
     "metadata": {},
     "output_type": "display_data"
    }
   ],
   "source": [
    "bets_page = open(\"bets_2.html\", \"r\").read()\n",
    "bets_soup = BeautifulSoup(bets_page, \"html.parser\")"
   ]
  },
  {
   "cell_type": "code",
   "execution_count": 171,
   "id": "b428e58c",
   "metadata": {},
   "outputs": [
    {
     "data": {
      "application/javascript": [
       "\n",
       "            setTimeout(function() {\n",
       "                var nbb_cell_id = 171;\n",
       "                var nbb_unformatted_code = \"dom = etree.HTML(str(bets_soup))\\nrows = dom.xpath(\\\"//td[contains(@class,'match aview')]\\\")\\nfor row in rows:\\n    singer = row.xpath(\\\"span[1]/text()\\\")[0].lower()\\n    if singer in mapping:\\n        singer = mapping[singer]\\n    bet = float(row.xpath(\\\"span[2]/text()\\\")[0])\\n    bets_map[singer].append(bet)\";\n",
       "                var nbb_formatted_code = \"dom = etree.HTML(str(bets_soup))\\nrows = dom.xpath(\\\"//td[contains(@class,'match aview')]\\\")\\nfor row in rows:\\n    singer = row.xpath(\\\"span[1]/text()\\\")[0].lower()\\n    if singer in mapping:\\n        singer = mapping[singer]\\n    bet = float(row.xpath(\\\"span[2]/text()\\\")[0])\\n    bets_map[singer].append(bet)\";\n",
       "                var nbb_cells = Jupyter.notebook.get_cells();\n",
       "                for (var i = 0; i < nbb_cells.length; ++i) {\n",
       "                    if (nbb_cells[i].input_prompt_number == nbb_cell_id) {\n",
       "                        if (nbb_cells[i].get_text() == nbb_unformatted_code) {\n",
       "                             nbb_cells[i].set_text(nbb_formatted_code);\n",
       "                        }\n",
       "                        break;\n",
       "                    }\n",
       "                }\n",
       "            }, 500);\n",
       "            "
      ],
      "text/plain": [
       "<IPython.core.display.Javascript object>"
      ]
     },
     "metadata": {},
     "output_type": "display_data"
    }
   ],
   "source": [
    "dom = etree.HTML(str(bets_soup))\n",
    "rows = dom.xpath(\"//td[contains(@class,'match aview')]\")\n",
    "for row in rows:\n",
    "    singer = row.xpath(\"span[1]/text()\")[0].lower()\n",
    "    if singer in mapping:\n",
    "        singer = mapping[singer]\n",
    "    bet = float(row.xpath(\"span[2]/text()\")[0])\n",
    "    bets_map[singer].append(bet)"
   ]
  },
  {
   "cell_type": "code",
   "execution_count": 172,
   "id": "c5539b1b",
   "metadata": {},
   "outputs": [
    {
     "data": {
      "text/plain": [
       "defaultdict(list,\n",
       "            {'mahmood e blanco': [4.5, 4.5],\n",
       "             'elisa': [5.0, 5.0],\n",
       "             'emma': [7.5, 8.0],\n",
       "             'achille lauro': [10.0, 8.0],\n",
       "             'sangiovanni': [9.0, 9.0],\n",
       "             'la rappresentante di lista': [13.0, 13.0],\n",
       "             'irama': [13.0, 16.0],\n",
       "             'noemi': [13.0, 13.0],\n",
       "             'rkomi': [18.0, 11.0],\n",
       "             'fabrizio moro': [15.0, 13.0],\n",
       "             'michele bravi': [18.0, 16.0],\n",
       "             \"dargen d'amico\": [21.0, 19.0],\n",
       "             'massimo ranieri': [18.0, 21.0],\n",
       "             'le vibrazioni': [21.0, 26.0],\n",
       "             'matteo romano': [26.0, 21.0],\n",
       "             'aka 7even': [21.0, 26.0],\n",
       "             'ana mena': [21.0, 21.0],\n",
       "             'tananai': [26.0, 36.0],\n",
       "             'yuman': [34.0, 31.0],\n",
       "             'giusy ferreri': [34.0, 31.0],\n",
       "             'giovanni truppi': [34.0, 36.0],\n",
       "             'gianni morandi': [51.0, 26.0],\n",
       "             'highsnob e hu': [34.0, 26.0],\n",
       "             'ditonellapiaga con donatella rettore': [41.0, 36.0],\n",
       "             'iva zanicchi': [51.0, 51.0]})"
      ]
     },
     "execution_count": 172,
     "metadata": {},
     "output_type": "execute_result"
    },
    {
     "data": {
      "application/javascript": [
       "\n",
       "            setTimeout(function() {\n",
       "                var nbb_cell_id = 172;\n",
       "                var nbb_unformatted_code = \"bets_map\";\n",
       "                var nbb_formatted_code = \"bets_map\";\n",
       "                var nbb_cells = Jupyter.notebook.get_cells();\n",
       "                for (var i = 0; i < nbb_cells.length; ++i) {\n",
       "                    if (nbb_cells[i].input_prompt_number == nbb_cell_id) {\n",
       "                        if (nbb_cells[i].get_text() == nbb_unformatted_code) {\n",
       "                             nbb_cells[i].set_text(nbb_formatted_code);\n",
       "                        }\n",
       "                        break;\n",
       "                    }\n",
       "                }\n",
       "            }, 500);\n",
       "            "
      ],
      "text/plain": [
       "<IPython.core.display.Javascript object>"
      ]
     },
     "metadata": {},
     "output_type": "display_data"
    }
   ],
   "source": [
    "bets_map"
   ]
  },
  {
   "cell_type": "code",
   "execution_count": 173,
   "id": "403d8f67",
   "metadata": {},
   "outputs": [
    {
     "data": {
      "application/javascript": [
       "\n",
       "            setTimeout(function() {\n",
       "                var nbb_cell_id = 173;\n",
       "                var nbb_unformatted_code = \"singers_page = open(\\\"singers.html\\\", \\\"r\\\").read()\\nsoup_singers = BeautifulSoup(singers_page, \\\"html.parser\\\")\";\n",
       "                var nbb_formatted_code = \"singers_page = open(\\\"singers.html\\\", \\\"r\\\").read()\\nsoup_singers = BeautifulSoup(singers_page, \\\"html.parser\\\")\";\n",
       "                var nbb_cells = Jupyter.notebook.get_cells();\n",
       "                for (var i = 0; i < nbb_cells.length; ++i) {\n",
       "                    if (nbb_cells[i].input_prompt_number == nbb_cell_id) {\n",
       "                        if (nbb_cells[i].get_text() == nbb_unformatted_code) {\n",
       "                             nbb_cells[i].set_text(nbb_formatted_code);\n",
       "                        }\n",
       "                        break;\n",
       "                    }\n",
       "                }\n",
       "            }, 500);\n",
       "            "
      ],
      "text/plain": [
       "<IPython.core.display.Javascript object>"
      ]
     },
     "metadata": {},
     "output_type": "display_data"
    }
   ],
   "source": [
    "singers_page = open(\"singers.html\", \"r\").read()\n",
    "soup_singers = BeautifulSoup(singers_page, \"html.parser\")"
   ]
  },
  {
   "cell_type": "code",
   "execution_count": 174,
   "id": "2d0bc82e",
   "metadata": {},
   "outputs": [
    {
     "data": {
      "application/javascript": [
       "\n",
       "            setTimeout(function() {\n",
       "                var nbb_cell_id = 174;\n",
       "                var nbb_unformatted_code = \"singers_map = {}\";\n",
       "                var nbb_formatted_code = \"singers_map = {}\";\n",
       "                var nbb_cells = Jupyter.notebook.get_cells();\n",
       "                for (var i = 0; i < nbb_cells.length; ++i) {\n",
       "                    if (nbb_cells[i].input_prompt_number == nbb_cell_id) {\n",
       "                        if (nbb_cells[i].get_text() == nbb_unformatted_code) {\n",
       "                             nbb_cells[i].set_text(nbb_formatted_code);\n",
       "                        }\n",
       "                        break;\n",
       "                    }\n",
       "                }\n",
       "            }, 500);\n",
       "            "
      ],
      "text/plain": [
       "<IPython.core.display.Javascript object>"
      ]
     },
     "metadata": {},
     "output_type": "display_data"
    }
   ],
   "source": [
    "singers_map = {}"
   ]
  },
  {
   "cell_type": "code",
   "execution_count": 175,
   "id": "92b6b7ee",
   "metadata": {},
   "outputs": [
    {
     "data": {
      "application/javascript": [
       "\n",
       "            setTimeout(function() {\n",
       "                var nbb_cell_id = 175;\n",
       "                var nbb_unformatted_code = \"dom_singers = etree.HTML(str(soup_singers))\\nrows_singers = dom_singers.xpath(\\\"/html/body/div//div[@class='song-card']\\\")\\nfor row in rows_singers:\\n    singer = row.xpath(\\\"div/div[2]/div[1]/div/h1/text()\\\")[0].lower().replace('\\u2019',\\\"'\\\")\\n    soup_temp = BeautifulSoup(tostring(row.xpath(\\\"div/div[2]/h1[2]\\\")[0]), \\\"html.parser\\\")\\n    quotation = float(soup_temp.getText().replace('Baudi','').strip())\\n    singers_map[singer] = quotation\";\n",
       "                var nbb_formatted_code = \"dom_singers = etree.HTML(str(soup_singers))\\nrows_singers = dom_singers.xpath(\\\"/html/body/div//div[@class='song-card']\\\")\\nfor row in rows_singers:\\n    singer = row.xpath(\\\"div/div[2]/div[1]/div/h1/text()\\\")[0].lower().replace(\\\"\\u2019\\\", \\\"'\\\")\\n    soup_temp = BeautifulSoup(tostring(row.xpath(\\\"div/div[2]/h1[2]\\\")[0]), \\\"html.parser\\\")\\n    quotation = float(soup_temp.getText().replace(\\\"Baudi\\\", \\\"\\\").strip())\\n    singers_map[singer] = quotation\";\n",
       "                var nbb_cells = Jupyter.notebook.get_cells();\n",
       "                for (var i = 0; i < nbb_cells.length; ++i) {\n",
       "                    if (nbb_cells[i].input_prompt_number == nbb_cell_id) {\n",
       "                        if (nbb_cells[i].get_text() == nbb_unformatted_code) {\n",
       "                             nbb_cells[i].set_text(nbb_formatted_code);\n",
       "                        }\n",
       "                        break;\n",
       "                    }\n",
       "                }\n",
       "            }, 500);\n",
       "            "
      ],
      "text/plain": [
       "<IPython.core.display.Javascript object>"
      ]
     },
     "metadata": {},
     "output_type": "display_data"
    }
   ],
   "source": [
    "dom_singers = etree.HTML(str(soup_singers))\n",
    "rows_singers = dom_singers.xpath(\"/html/body/div//div[@class='song-card']\")\n",
    "for row in rows_singers:\n",
    "    singer = row.xpath(\"div/div[2]/div[1]/div/h1/text()\")[0].lower().replace('’',\"'\")\n",
    "    soup_temp = BeautifulSoup(tostring(row.xpath(\"div/div[2]/h1[2]\")[0]), \"html.parser\")\n",
    "    quotation = float(soup_temp.getText().replace('Baudi','').strip())\n",
    "    singers_map[singer] = quotation\n"
   ]
  },
  {
   "cell_type": "code",
   "execution_count": 176,
   "id": "20a4bef2",
   "metadata": {},
   "outputs": [
    {
     "data": {
      "text/plain": [
       "{'achille lauro': 32.0,\n",
       " 'aka 7even': 23.0,\n",
       " 'ana mena': 17.0,\n",
       " \"dargen d'amico\": 15.0,\n",
       " 'ditonellapiaga con donatella rettore': 15.0,\n",
       " 'elisa': 28.0,\n",
       " 'emma': 25.0,\n",
       " 'fabrizio moro': 24.0,\n",
       " 'gianni morandi': 20.0,\n",
       " 'giovanni truppi': 16.0,\n",
       " 'giusy ferreri': 18.0,\n",
       " 'highsnob e hu': 15.0,\n",
       " 'irama': 25.0,\n",
       " 'iva zanicchi': 14.0,\n",
       " 'la rappresentante di lista': 19.0,\n",
       " 'le vibrazioni': 21.0,\n",
       " 'mahmood e blanco': 35.0,\n",
       " 'massimo ranieri': 20.0,\n",
       " 'michele bravi': 23.0,\n",
       " 'noemi': 24.0,\n",
       " 'rkomi': 16.0,\n",
       " 'sangiovanni': 26.0,\n",
       " 'yuman': 14.0,\n",
       " 'tananai': 16.0,\n",
       " 'matteo romano': 14.0}"
      ]
     },
     "execution_count": 176,
     "metadata": {},
     "output_type": "execute_result"
    },
    {
     "data": {
      "application/javascript": [
       "\n",
       "            setTimeout(function() {\n",
       "                var nbb_cell_id = 176;\n",
       "                var nbb_unformatted_code = \"singers_map\";\n",
       "                var nbb_formatted_code = \"singers_map\";\n",
       "                var nbb_cells = Jupyter.notebook.get_cells();\n",
       "                for (var i = 0; i < nbb_cells.length; ++i) {\n",
       "                    if (nbb_cells[i].input_prompt_number == nbb_cell_id) {\n",
       "                        if (nbb_cells[i].get_text() == nbb_unformatted_code) {\n",
       "                             nbb_cells[i].set_text(nbb_formatted_code);\n",
       "                        }\n",
       "                        break;\n",
       "                    }\n",
       "                }\n",
       "            }, 500);\n",
       "            "
      ],
      "text/plain": [
       "<IPython.core.display.Javascript object>"
      ]
     },
     "metadata": {},
     "output_type": "display_data"
    }
   ],
   "source": [
    "singers_map"
   ]
  },
  {
   "cell_type": "code",
   "execution_count": 178,
   "id": "f2c2fe96",
   "metadata": {},
   "outputs": [
    {
     "data": {
      "application/javascript": [
       "\n",
       "            setTimeout(function() {\n",
       "                var nbb_cell_id = 178;\n",
       "                var nbb_unformatted_code = \"singers = []\\ncosts = []\\nbets = []\\nscores = []\\n\\nfor k, v in singers_map.items():\\n    singers.append(k)\\n    costs.append(v)\\n    current_bet = sum(bets_map[k]) / len(bets_map[k])\\n    bets.append(current_bet)\\n    scores.append((1 / current_bet) / v)\";\n",
       "                var nbb_formatted_code = \"singers = []\\ncosts = []\\nbets = []\\nscores = []\\n\\nfor k, v in singers_map.items():\\n    singers.append(k)\\n    costs.append(v)\\n    current_bet = sum(bets_map[k]) / len(bets_map[k])\\n    bets.append(current_bet)\\n    scores.append((1 / current_bet) / v)\";\n",
       "                var nbb_cells = Jupyter.notebook.get_cells();\n",
       "                for (var i = 0; i < nbb_cells.length; ++i) {\n",
       "                    if (nbb_cells[i].input_prompt_number == nbb_cell_id) {\n",
       "                        if (nbb_cells[i].get_text() == nbb_unformatted_code) {\n",
       "                             nbb_cells[i].set_text(nbb_formatted_code);\n",
       "                        }\n",
       "                        break;\n",
       "                    }\n",
       "                }\n",
       "            }, 500);\n",
       "            "
      ],
      "text/plain": [
       "<IPython.core.display.Javascript object>"
      ]
     },
     "metadata": {},
     "output_type": "display_data"
    }
   ],
   "source": [
    "singers = []\n",
    "costs = []\n",
    "bets = []\n",
    "scores = []\n",
    "\n",
    "for k, v in singers_map.items():\n",
    "    singers.append(k)\n",
    "    costs.append(v)\n",
    "    current_bet = sum(bets_map[k]) / len(bets_map[k])\n",
    "    bets.append(current_bet)\n",
    "    scores.append((1 / current_bet) / v)"
   ]
  },
  {
   "cell_type": "code",
   "execution_count": 179,
   "id": "33e15101",
   "metadata": {
    "scrolled": true
   },
   "outputs": [
    {
     "data": {
      "text/plain": [
       "[('achille lauro', 32.0, 9.0, 0.003472222222222222),\n",
       " ('aka 7even', 23.0, 23.5, 0.0018501387604070304),\n",
       " ('ana mena', 17.0, 21.0, 0.0028011204481792717),\n",
       " (\"dargen d'amico\", 15.0, 20.0, 0.0033333333333333335),\n",
       " ('ditonellapiaga con donatella rettore', 15.0, 38.5, 0.0017316017316017318),\n",
       " ('elisa', 28.0, 5.0, 0.0071428571428571435),\n",
       " ('emma', 25.0, 7.75, 0.005161290322580645),\n",
       " ('fabrizio moro', 24.0, 14.0, 0.002976190476190476),\n",
       " ('gianni morandi', 20.0, 38.5, 0.0012987012987012987),\n",
       " ('giovanni truppi', 16.0, 35.0, 0.0017857142857142857),\n",
       " ('giusy ferreri', 18.0, 32.5, 0.0017094017094017094),\n",
       " ('highsnob e hu', 15.0, 30.0, 0.0022222222222222222),\n",
       " ('irama', 25.0, 14.5, 0.002758620689655172),\n",
       " ('iva zanicchi', 14.0, 51.0, 0.0014005602240896359),\n",
       " ('la rappresentante di lista', 19.0, 13.0, 0.004048582995951417),\n",
       " ('le vibrazioni', 21.0, 23.5, 0.002026342451874367),\n",
       " ('mahmood e blanco', 35.0, 4.5, 0.006349206349206349),\n",
       " ('massimo ranieri', 20.0, 19.5, 0.002564102564102564),\n",
       " ('michele bravi', 23.0, 17.0, 0.002557544757033248),\n",
       " ('noemi', 24.0, 13.0, 0.0032051282051282055),\n",
       " ('rkomi', 16.0, 14.5, 0.004310344827586207),\n",
       " ('sangiovanni', 26.0, 9.0, 0.004273504273504273),\n",
       " ('yuman', 14.0, 32.5, 0.002197802197802198),\n",
       " ('tananai', 16.0, 31.0, 0.0020161290322580645),\n",
       " ('matteo romano', 14.0, 23.5, 0.00303951367781155)]"
      ]
     },
     "execution_count": 179,
     "metadata": {},
     "output_type": "execute_result"
    },
    {
     "data": {
      "application/javascript": [
       "\n",
       "            setTimeout(function() {\n",
       "                var nbb_cell_id = 179;\n",
       "                var nbb_unformatted_code = \"list(zip(singers, costs, bets, scores))\";\n",
       "                var nbb_formatted_code = \"list(zip(singers, costs, bets, scores))\";\n",
       "                var nbb_cells = Jupyter.notebook.get_cells();\n",
       "                for (var i = 0; i < nbb_cells.length; ++i) {\n",
       "                    if (nbb_cells[i].input_prompt_number == nbb_cell_id) {\n",
       "                        if (nbb_cells[i].get_text() == nbb_unformatted_code) {\n",
       "                             nbb_cells[i].set_text(nbb_formatted_code);\n",
       "                        }\n",
       "                        break;\n",
       "                    }\n",
       "                }\n",
       "            }, 500);\n",
       "            "
      ],
      "text/plain": [
       "<IPython.core.display.Javascript object>"
      ]
     },
     "metadata": {},
     "output_type": "display_data"
    }
   ],
   "source": [
    "list(zip(singers, costs, bets, scores))"
   ]
  },
  {
   "cell_type": "code",
   "execution_count": 180,
   "id": "0cf28163",
   "metadata": {},
   "outputs": [
    {
     "data": {
      "application/javascript": [
       "\n",
       "            setTimeout(function() {\n",
       "                var nbb_cell_id = 180;\n",
       "                var nbb_unformatted_code = \"from pulp import LpProblem, LpMaximize, LpVariable, LpInteger\\n\\n\\ndef maximization_scores(singers, costs, bets, scores):\\n    P = range(len(singers))\\n    # Declare problem instance, maximization problem\\n    prob = LpProblem(\\\"Portfolio\\\", LpMaximize)\\n    # Declare decision variable x, which is 1 if a\\n    # player is part of the portfolio and 0 else\\n    x = LpVariable.matrix(\\\"x\\\", list(P), 0, 1, LpInteger)\\n    # Objective function -> Maximize votes\\n    prob += sum(scores[p] * x[p] for p in P)\\n    # Constraint definition #\\n\\n    # constraint for the number of players in the team\\n    prob += sum(x[p] for p in P) == 5\\n    # constraint on the total amount of credits\\n    prob += sum(costs[p] * x[p] for p in P) <= 100\\n    # constraint for having every player only once in the final team\\n    for elem in singers:\\n        prob += sum(x[p] for p in P if singers[p] == elem) <= 1\\n    # Start solving the problem instance\\n    prob.solve()\\n    # Extract solution\\n    portfolio = [(singers[p], costs[p], bets[p], scores[p]) for p in P if x[p].varValue]\\n    portfolio = sorted(portfolio, key=lambda x: x[3], reverse=True)\\n    return portfolio\";\n",
       "                var nbb_formatted_code = \"from pulp import LpProblem, LpMaximize, LpVariable, LpInteger\\n\\n\\ndef maximization_scores(singers, costs, bets, scores):\\n    P = range(len(singers))\\n    # Declare problem instance, maximization problem\\n    prob = LpProblem(\\\"Portfolio\\\", LpMaximize)\\n    # Declare decision variable x, which is 1 if a\\n    # player is part of the portfolio and 0 else\\n    x = LpVariable.matrix(\\\"x\\\", list(P), 0, 1, LpInteger)\\n    # Objective function -> Maximize votes\\n    prob += sum(scores[p] * x[p] for p in P)\\n    # Constraint definition #\\n\\n    # constraint for the number of players in the team\\n    prob += sum(x[p] for p in P) == 5\\n    # constraint on the total amount of credits\\n    prob += sum(costs[p] * x[p] for p in P) <= 100\\n    # constraint for having every player only once in the final team\\n    for elem in singers:\\n        prob += sum(x[p] for p in P if singers[p] == elem) <= 1\\n    # Start solving the problem instance\\n    prob.solve()\\n    # Extract solution\\n    portfolio = [(singers[p], costs[p], bets[p], scores[p]) for p in P if x[p].varValue]\\n    portfolio = sorted(portfolio, key=lambda x: x[3], reverse=True)\\n    return portfolio\";\n",
       "                var nbb_cells = Jupyter.notebook.get_cells();\n",
       "                for (var i = 0; i < nbb_cells.length; ++i) {\n",
       "                    if (nbb_cells[i].input_prompt_number == nbb_cell_id) {\n",
       "                        if (nbb_cells[i].get_text() == nbb_unformatted_code) {\n",
       "                             nbb_cells[i].set_text(nbb_formatted_code);\n",
       "                        }\n",
       "                        break;\n",
       "                    }\n",
       "                }\n",
       "            }, 500);\n",
       "            "
      ],
      "text/plain": [
       "<IPython.core.display.Javascript object>"
      ]
     },
     "metadata": {},
     "output_type": "display_data"
    }
   ],
   "source": [
    "from pulp import LpProblem, LpMaximize, LpVariable, LpInteger\n",
    "\n",
    "\n",
    "def maximization_scores(singers, costs, bets, scores):\n",
    "    P = range(len(singers))\n",
    "    # Declare problem instance, maximization problem\n",
    "    prob = LpProblem(\"Portfolio\", LpMaximize)\n",
    "    # Declare decision variable x, which is 1 if a\n",
    "    # singer is part of the portfolio and 0 else\n",
    "    x = LpVariable.matrix(\"x\", list(P), 0, 1, LpInteger)\n",
    "    # Objective function -> Maximize scores\n",
    "    prob += sum(scores[p] * x[p] for p in P)\n",
    "    ### Constraint definition\n",
    "\n",
    "    # constraint for the number of singers in the team\n",
    "    prob += sum(x[p] for p in P) == 5\n",
    "    # constraint on the total amount of credits\n",
    "    prob += sum(costs[p] * x[p] for p in P) <= 100\n",
    "    # constraint for having every player only once in the final team\n",
    "    for elem in singers:\n",
    "        prob += sum(x[p] for p in P if singers[p] == elem) <= 1\n",
    "    # Start solving the problem instance\n",
    "    prob.solve()\n",
    "    # Extract solution\n",
    "    portfolio = [(singers[p], costs[p], bets[p], scores[p]) for p in P if x[p].varValue]\n",
    "    portfolio = sorted(portfolio, key=lambda x: x[3], reverse=True)\n",
    "    return portfolio"
   ]
  },
  {
   "cell_type": "code",
   "execution_count": 181,
   "id": "2047b15c",
   "metadata": {
    "scrolled": false
   },
   "outputs": [
    {
     "name": "stdout",
     "output_type": "stream",
     "text": [
      "Welcome to the CBC MILP Solver \n",
      "Version: 2.10.3 \n",
      "Build Date: Dec 15 2019 \n",
      "\n",
      "command line - /Users/silvio/miniconda3/envs/scraping/lib/python3.9/site-packages/pulp/apis/../solverdir/cbc/osx/64/cbc /var/folders/cp/kpt5pstd3hx5sy161xrz7pp40000gn/T/776c9495b451439d9591dcaf99c9e874-pulp.mps max timeMode elapsed branch printingOptions all solution /var/folders/cp/kpt5pstd3hx5sy161xrz7pp40000gn/T/776c9495b451439d9591dcaf99c9e874-pulp.sol (default strategy 1)\n",
      "At line 2 NAME          MODEL\n",
      "At line 3 ROWS\n",
      "At line 32 COLUMNS\n",
      "At line 183 RHS\n",
      "At line 211 BOUNDS\n",
      "At line 237 ENDATA\n",
      "Problem MODEL has 27 rows, 25 columns and 75 elements\n",
      "Coin0008I MODEL read with 0 errors\n",
      "Option for timeMode changed from cpu to elapsed\n",
      "Continuous objective value is 0.0234177 - 0.00 seconds\n",
      "Cgl0004I processed model has 2 rows, 25 columns (25 integer (25 of which binary)) and 50 elements\n",
      "Cbc0038I Initial state - 2 integers unsatisfied sum - 0.545455\n",
      "Cbc0038I Pass   1: suminf.    0.42857 (2) obj. -0.0229368 iterations 2\n",
      "Cbc0038I Solution found of -0.0190514\n",
      "Cbc0038I Before mini branch and bound, 21 integers at bound fixed and 0 continuous\n",
      "Cbc0038I Full problem 2 rows 25 columns, reduced to 2 rows 4 columns\n",
      "Cbc0038I Mini branch and bound improved solution from -0.0190514 to -0.0218746 (0.02 seconds)\n",
      "Cbc0038I Round again with cutoff of -0.0220379\n",
      "Cbc0038I Reduced cost fixing fixed 15 variables on major pass 2\n",
      "Cbc0038I Pass   2: suminf.    0.54545 (2) obj. -0.0231882 iterations 1\n",
      "Cbc0038I Pass   3: suminf.    0.48418 (2) obj. -0.0220379 iterations 2\n",
      "Cbc0038I Pass   4: suminf.    0.76190 (2) obj. -0.0226144 iterations 1\n",
      "Cbc0038I Pass   5: suminf.    0.00000 (0) obj. -0.0229873 iterations 6\n",
      "Cbc0038I Solution found of -0.0229873\n",
      "Cbc0038I Before mini branch and bound, 20 integers at bound fixed and 0 continuous\n",
      "Cbc0038I Full problem 2 rows 25 columns, reduced to 2 rows 5 columns\n",
      "Cbc0038I Mini branch and bound did not improve solution (0.02 seconds)\n",
      "Cbc0038I Round again with cutoff of -0.0230814\n",
      "Cbc0038I Reduced cost fixing fixed 21 variables on major pass 3\n",
      "Cbc0038I Pass   6: suminf.    0.54545 (2) obj. -0.0234177 iterations 1\n",
      "Cbc0038I Pass   7: suminf.    0.86247 (2) obj. -0.0230814 iterations 1\n",
      "Cbc0038I Pass   8: suminf.    0.26307 (2) obj. -0.0230814 iterations 2\n",
      "Cbc0038I Pass   9: suminf.    0.18647 (2) obj. -0.0230814 iterations 1\n",
      "Cbc0038I Pass  10: suminf.    0.18647 (2) obj. -0.0230814 iterations 0\n",
      "Cbc0038I Pass  11: suminf.    0.18647 (2) obj. -0.0230814 iterations 0\n",
      "Cbc0038I Pass  12: suminf.    0.26307 (2) obj. -0.0230814 iterations 1\n",
      "Cbc0038I Pass  13: suminf.    0.18647 (2) obj. -0.0230814 iterations 1\n",
      "Cbc0038I Pass  14: suminf.    0.18647 (2) obj. -0.0230814 iterations 0\n",
      "Cbc0038I Pass  15: suminf.    0.18647 (2) obj. -0.0230814 iterations 0\n",
      "Cbc0038I Pass  16: suminf.    0.18647 (2) obj. -0.0230814 iterations 0\n",
      "Cbc0038I Pass  17: suminf.    0.26307 (2) obj. -0.0230814 iterations 1\n",
      "Cbc0038I Pass  18: suminf.    0.18647 (2) obj. -0.0230814 iterations 1\n",
      "Cbc0038I Pass  19: suminf.    0.18647 (2) obj. -0.0230814 iterations 0\n",
      "Cbc0038I Pass  20: suminf.    0.26307 (2) obj. -0.0230814 iterations 1\n",
      "Cbc0038I Pass  21: suminf.    0.26307 (2) obj. -0.0230814 iterations 0\n",
      "Cbc0038I Pass  22: suminf.    0.18647 (2) obj. -0.0230814 iterations 1\n",
      "Cbc0038I Pass  23: suminf.    0.67963 (2) obj. -0.0230814 iterations 2\n",
      "Cbc0038I Pass  24: suminf.    0.40000 (2) obj. -0.023337 iterations 1\n",
      "Cbc0038I Pass  25: suminf.    0.26307 (2) obj. -0.0230814 iterations 2\n",
      "Cbc0038I Pass  26: suminf.    0.26307 (2) obj. -0.0230814 iterations 0\n",
      "Cbc0038I Pass  27: suminf.    0.26307 (2) obj. -0.0230814 iterations 0\n",
      "Cbc0038I Pass  28: suminf.    0.18647 (2) obj. -0.0230814 iterations 1\n",
      "Cbc0038I Pass  29: suminf.    0.54545 (2) obj. -0.0234177 iterations 2\n",
      "Cbc0038I Pass  30: suminf.    0.86247 (2) obj. -0.0230814 iterations 1\n",
      "Cbc0038I Pass  31: suminf.    0.54545 (2) obj. -0.0234177 iterations 1\n",
      "Cbc0038I Pass  32: suminf.    0.67963 (2) obj. -0.0230814 iterations 2\n",
      "Cbc0038I Pass  33: suminf.    0.86247 (2) obj. -0.0230814 iterations 1\n",
      "Cbc0038I Pass  34: suminf.    0.18647 (2) obj. -0.0230814 iterations 1\n",
      "Cbc0038I Pass  35: suminf.    0.18647 (2) obj. -0.0230814 iterations 0\n",
      "Cbc0038I No solution found this major pass\n",
      "Cbc0038I Before mini branch and bound, 21 integers at bound fixed and 0 continuous\n",
      "Cbc0038I Full problem 2 rows 25 columns, reduced to 2 rows 4 columns\n",
      "Cbc0038I Mini branch and bound did not improve solution (0.02 seconds)\n",
      "Cbc0038I After 0.02 seconds - Feasibility pump exiting with objective of -0.0229873 - took 0.00 seconds\n",
      "Cbc0012I Integer solution of -0.022987339 found by feasibility pump after 0 iterations and 0 nodes (0.02 seconds)\n",
      "Cbc0038I Full problem 2 rows 25 columns, reduced to 2 rows 3 columns\n",
      "Cbc0006I The LP relaxation is infeasible or too expensive\n",
      "Cbc0013I At root node, 0 cuts changed objective from -0.023417742 to -0.023417742 in 1 passes\n",
      "Cbc0014I Cut generator 0 (Probing) - 0 row cuts average 0.0 elements, 1 column cuts (1 active)  in 0.000 seconds - new frequency is 1\n",
      "Cbc0014I Cut generator 1 (Gomory) - 0 row cuts average 0.0 elements, 0 column cuts (0 active)  in 0.000 seconds - new frequency is -100\n",
      "Cbc0014I Cut generator 2 (Knapsack) - 0 row cuts average 0.0 elements, 0 column cuts (0 active)  in 0.000 seconds - new frequency is -100\n",
      "Cbc0014I Cut generator 3 (Clique) - 0 row cuts average 0.0 elements, 0 column cuts (0 active)  in 0.000 seconds - new frequency is -100\n",
      "Cbc0014I Cut generator 4 (MixedIntegerRounding2) - 0 row cuts average 0.0 elements, 0 column cuts (0 active)  in 0.000 seconds - new frequency is -100\n",
      "Cbc0014I Cut generator 5 (FlowCover) - 0 row cuts average 0.0 elements, 0 column cuts (0 active)  in 0.000 seconds - new frequency is -100\n",
      "Cbc0014I Cut generator 6 (TwoMirCuts) - 0 row cuts average 0.0 elements, 0 column cuts (0 active)  in 0.000 seconds - new frequency is -100\n",
      "Cbc0014I Cut generator 7 (ZeroHalf) - 0 row cuts average 0.0 elements, 0 column cuts (0 active)  in 0.000 seconds - new frequency is -100\n",
      "Cbc0001I Search completed - best objective -0.022987339304169, took 0 iterations and 0 nodes (0.02 seconds)\n",
      "Cbc0035I Maximum depth 0, 21 variables fixed on reduced cost\n",
      "Cuts at root node changed objective from -0.0234177 to -0.0234177\n",
      "Probing was tried 1 times and created 1 cuts of which 0 were active after adding rounds of cuts (0.000 seconds)\n",
      "Gomory was tried 0 times and created 0 cuts of which 0 were active after adding rounds of cuts (0.000 seconds)\n",
      "Knapsack was tried 0 times and created 0 cuts of which 0 were active after adding rounds of cuts (0.000 seconds)\n",
      "Clique was tried 0 times and created 0 cuts of which 0 were active after adding rounds of cuts (0.000 seconds)\n",
      "MixedIntegerRounding2 was tried 0 times and created 0 cuts of which 0 were active after adding rounds of cuts (0.000 seconds)\n",
      "FlowCover was tried 0 times and created 0 cuts of which 0 were active after adding rounds of cuts (0.000 seconds)\n",
      "TwoMirCuts was tried 0 times and created 0 cuts of which 0 were active after adding "
     ]
    },
    {
     "data": {
      "application/javascript": [
       "\n",
       "            setTimeout(function() {\n",
       "                var nbb_cell_id = 181;\n",
       "                var nbb_unformatted_code = \"portfolio = maximization_scores(singers, costs, bets, scores)\";\n",
       "                var nbb_formatted_code = \"portfolio = maximization_scores(singers, costs, bets, scores)\";\n",
       "                var nbb_cells = Jupyter.notebook.get_cells();\n",
       "                for (var i = 0; i < nbb_cells.length; ++i) {\n",
       "                    if (nbb_cells[i].input_prompt_number == nbb_cell_id) {\n",
       "                        if (nbb_cells[i].get_text() == nbb_unformatted_code) {\n",
       "                             nbb_cells[i].set_text(nbb_formatted_code);\n",
       "                        }\n",
       "                        break;\n",
       "                    }\n",
       "                }\n",
       "            }, 500);\n",
       "            "
      ],
      "text/plain": [
       "<IPython.core.display.Javascript object>"
      ]
     },
     "metadata": {},
     "output_type": "display_data"
    },
    {
     "name": "stdout",
     "output_type": "stream",
     "text": [
      "rounds of cuts (0.000 seconds)\n",
      "ZeroHalf was tried 0 times and created 0 cuts of which 0 were active after adding rounds of cuts (0.000 seconds)\n",
      "\n",
      "Result - Optimal solution found\n",
      "\n",
      "Objective value:                0.02298734\n",
      "Enumerated nodes:               0\n",
      "Total iterations:               0\n",
      "Time (CPU seconds):             0.01\n",
      "Time (Wallclock seconds):       0.02\n",
      "\n",
      "Option for printingOptions changed from normal to all\n",
      "Total time (CPU seconds):       0.01   (Wallclock seconds):       0.03\n",
      "\n"
     ]
    }
   ],
   "source": [
    "portfolio = maximization_scores(singers, costs, bets, scores)"
   ]
  },
  {
   "cell_type": "code",
   "execution_count": 182,
   "id": "cf017673",
   "metadata": {},
   "outputs": [
    {
     "data": {
      "text/plain": [
       "[('elisa', 28.0, 5.0, 0.0071428571428571435),\n",
       " ('emma', 25.0, 7.75, 0.005161290322580645),\n",
       " ('rkomi', 16.0, 14.5, 0.004310344827586207),\n",
       " (\"dargen d'amico\", 15.0, 20.0, 0.0033333333333333335),\n",
       " ('matteo romano', 14.0, 23.5, 0.00303951367781155)]"
      ]
     },
     "execution_count": 182,
     "metadata": {},
     "output_type": "execute_result"
    },
    {
     "data": {
      "application/javascript": [
       "\n",
       "            setTimeout(function() {\n",
       "                var nbb_cell_id = 182;\n",
       "                var nbb_unformatted_code = \"portfolio\";\n",
       "                var nbb_formatted_code = \"portfolio\";\n",
       "                var nbb_cells = Jupyter.notebook.get_cells();\n",
       "                for (var i = 0; i < nbb_cells.length; ++i) {\n",
       "                    if (nbb_cells[i].input_prompt_number == nbb_cell_id) {\n",
       "                        if (nbb_cells[i].get_text() == nbb_unformatted_code) {\n",
       "                             nbb_cells[i].set_text(nbb_formatted_code);\n",
       "                        }\n",
       "                        break;\n",
       "                    }\n",
       "                }\n",
       "            }, 500);\n",
       "            "
      ],
      "text/plain": [
       "<IPython.core.display.Javascript object>"
      ]
     },
     "metadata": {},
     "output_type": "display_data"
    }
   ],
   "source": [
    "portfolio"
   ]
  },
  {
   "cell_type": "code",
   "execution_count": 183,
   "id": "9120a834",
   "metadata": {},
   "outputs": [
    {
     "data": {
      "text/plain": [
       "[('elisa', 28.0, 0.0071428571428571435),\n",
       " ('mahmood e blanco', 35.0, 0.006349206349206349),\n",
       " ('emma', 25.0, 0.005161290322580645),\n",
       " ('rkomi', 16.0, 0.004310344827586207),\n",
       " ('sangiovanni', 26.0, 0.004273504273504273),\n",
       " ('la rappresentante di lista', 19.0, 0.004048582995951417),\n",
       " ('achille lauro', 32.0, 0.003472222222222222),\n",
       " (\"dargen d'amico\", 15.0, 0.0033333333333333335),\n",
       " ('noemi', 24.0, 0.0032051282051282055),\n",
       " ('matteo romano', 14.0, 0.00303951367781155),\n",
       " ('fabrizio moro', 24.0, 0.002976190476190476),\n",
       " ('ana mena', 17.0, 0.0028011204481792717),\n",
       " ('irama', 25.0, 0.002758620689655172),\n",
       " ('massimo ranieri', 20.0, 0.002564102564102564),\n",
       " ('michele bravi', 23.0, 0.002557544757033248),\n",
       " ('highsnob e hu', 15.0, 0.0022222222222222222),\n",
       " ('yuman', 14.0, 0.002197802197802198),\n",
       " ('le vibrazioni', 21.0, 0.002026342451874367),\n",
       " ('tananai', 16.0, 0.0020161290322580645),\n",
       " ('aka 7even', 23.0, 0.0018501387604070304),\n",
       " ('giovanni truppi', 16.0, 0.0017857142857142857),\n",
       " ('ditonellapiaga con donatella rettore', 15.0, 0.0017316017316017318),\n",
       " ('giusy ferreri', 18.0, 0.0017094017094017094),\n",
       " ('iva zanicchi', 14.0, 0.0014005602240896359),\n",
       " ('gianni morandi', 20.0, 0.0012987012987012987)]"
      ]
     },
     "execution_count": 183,
     "metadata": {},
     "output_type": "execute_result"
    },
    {
     "data": {
      "application/javascript": [
       "\n",
       "            setTimeout(function() {\n",
       "                var nbb_cell_id = 183;\n",
       "                var nbb_unformatted_code = \"sorted(list(zip(singers, costs, scores)), key=lambda x: x[2], reverse=True)\";\n",
       "                var nbb_formatted_code = \"sorted(list(zip(singers, costs, scores)), key=lambda x: x[2], reverse=True)\";\n",
       "                var nbb_cells = Jupyter.notebook.get_cells();\n",
       "                for (var i = 0; i < nbb_cells.length; ++i) {\n",
       "                    if (nbb_cells[i].input_prompt_number == nbb_cell_id) {\n",
       "                        if (nbb_cells[i].get_text() == nbb_unformatted_code) {\n",
       "                             nbb_cells[i].set_text(nbb_formatted_code);\n",
       "                        }\n",
       "                        break;\n",
       "                    }\n",
       "                }\n",
       "            }, 500);\n",
       "            "
      ],
      "text/plain": [
       "<IPython.core.display.Javascript object>"
      ]
     },
     "metadata": {},
     "output_type": "display_data"
    }
   ],
   "source": [
    "sorted(list(zip(singers, costs, scores)), key=lambda x: x[2], reverse=True)"
   ]
  },
  {
   "cell_type": "code",
   "execution_count": null,
   "id": "13beaeba",
   "metadata": {},
   "outputs": [],
   "source": []
  }
 ],
 "metadata": {
  "kernelspec": {
   "display_name": "scraping",
   "language": "python",
   "name": "scraping"
  },
  "language_info": {
   "codemirror_mode": {
    "name": "ipython",
    "version": 3
   },
   "file_extension": ".py",
   "mimetype": "text/x-python",
   "name": "python",
   "nbconvert_exporter": "python",
   "pygments_lexer": "ipython3",
   "version": "3.9.7"
  }
 },
 "nbformat": 4,
 "nbformat_minor": 5
}
