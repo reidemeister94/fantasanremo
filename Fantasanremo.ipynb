{
 "cells": [
  {
   "cell_type": "code",
   "execution_count": 1,
   "id": "bb8daea1",
   "metadata": {},
   "outputs": [
    {
     "data": {
      "application/javascript": [
       "\n",
       "            setTimeout(function() {\n",
       "                var nbb_cell_id = 1;\n",
       "                var nbb_unformatted_code = \"%load_ext nb_black\";\n",
       "                var nbb_formatted_code = \"%load_ext nb_black\";\n",
       "                var nbb_cells = Jupyter.notebook.get_cells();\n",
       "                for (var i = 0; i < nbb_cells.length; ++i) {\n",
       "                    if (nbb_cells[i].input_prompt_number == nbb_cell_id) {\n",
       "                        if (nbb_cells[i].get_text() == nbb_unformatted_code) {\n",
       "                             nbb_cells[i].set_text(nbb_formatted_code);\n",
       "                        }\n",
       "                        break;\n",
       "                    }\n",
       "                }\n",
       "            }, 500);\n",
       "            "
      ],
      "text/plain": [
       "<IPython.core.display.Javascript object>"
      ]
     },
     "metadata": {},
     "output_type": "display_data"
    }
   ],
   "source": [
    "%load_ext nb_black"
   ]
  },
  {
   "cell_type": "code",
   "execution_count": 2,
   "id": "91aa59a1",
   "metadata": {},
   "outputs": [
    {
     "data": {
      "application/javascript": [
       "\n",
       "            setTimeout(function() {\n",
       "                var nbb_cell_id = 2;\n",
       "                var nbb_unformatted_code = \"from bs4 import BeautifulSoup\\nfrom lxml import etree\\nimport requests\\nfrom lxml.etree import tostring\\nfrom collections import defaultdict\";\n",
       "                var nbb_formatted_code = \"from bs4 import BeautifulSoup\\nfrom lxml import etree\\nimport requests\\nfrom lxml.etree import tostring\\nfrom collections import defaultdict\";\n",
       "                var nbb_cells = Jupyter.notebook.get_cells();\n",
       "                for (var i = 0; i < nbb_cells.length; ++i) {\n",
       "                    if (nbb_cells[i].input_prompt_number == nbb_cell_id) {\n",
       "                        if (nbb_cells[i].get_text() == nbb_unformatted_code) {\n",
       "                             nbb_cells[i].set_text(nbb_formatted_code);\n",
       "                        }\n",
       "                        break;\n",
       "                    }\n",
       "                }\n",
       "            }, 500);\n",
       "            "
      ],
      "text/plain": [
       "<IPython.core.display.Javascript object>"
      ]
     },
     "metadata": {},
     "output_type": "display_data"
    }
   ],
   "source": [
    "from bs4 import BeautifulSoup\n",
    "from lxml import etree\n",
    "import requests\n",
    "from lxml.etree import tostring\n",
    "from collections import defaultdict"
   ]
  },
  {
   "cell_type": "code",
   "execution_count": 3,
   "id": "edc292bd",
   "metadata": {},
   "outputs": [
    {
     "data": {
      "application/javascript": [
       "\n",
       "            setTimeout(function() {\n",
       "                var nbb_cell_id = 3;\n",
       "                var nbb_unformatted_code = \"mapping = {\\n    \\\"colapesce e di martino\\\": \\\"colapesce dimartino\\\",\\n    \\\"moda'\\\": \\\"mod\\u00e0\\\",\\n    \\\"paola e chiara\\\": \\\"paola & chiara\\\",\\n}\";\n",
       "                var nbb_formatted_code = \"mapping = {\\n    \\\"colapesce e di martino\\\": \\\"colapesce dimartino\\\",\\n    \\\"moda'\\\": \\\"mod\\u00e0\\\",\\n    \\\"paola e chiara\\\": \\\"paola & chiara\\\",\\n}\";\n",
       "                var nbb_cells = Jupyter.notebook.get_cells();\n",
       "                for (var i = 0; i < nbb_cells.length; ++i) {\n",
       "                    if (nbb_cells[i].input_prompt_number == nbb_cell_id) {\n",
       "                        if (nbb_cells[i].get_text() == nbb_unformatted_code) {\n",
       "                             nbb_cells[i].set_text(nbb_formatted_code);\n",
       "                        }\n",
       "                        break;\n",
       "                    }\n",
       "                }\n",
       "            }, 500);\n",
       "            "
      ],
      "text/plain": [
       "<IPython.core.display.Javascript object>"
      ]
     },
     "metadata": {},
     "output_type": "display_data"
    }
   ],
   "source": [
    "mapping = {\n",
    "    \"colapesce e di martino\": \"colapesce dimartino\",\n",
    "    \"moda'\": \"modà\",\n",
    "    \"paola e chiara\": \"paola & chiara\",\n",
    "}"
   ]
  },
  {
   "cell_type": "code",
   "execution_count": 4,
   "id": "385cc0ff",
   "metadata": {},
   "outputs": [
    {
     "data": {
      "application/javascript": [
       "\n",
       "            setTimeout(function() {\n",
       "                var nbb_cell_id = 4;\n",
       "                var nbb_unformatted_code = \"bets_map = defaultdict(list)\";\n",
       "                var nbb_formatted_code = \"bets_map = defaultdict(list)\";\n",
       "                var nbb_cells = Jupyter.notebook.get_cells();\n",
       "                for (var i = 0; i < nbb_cells.length; ++i) {\n",
       "                    if (nbb_cells[i].input_prompt_number == nbb_cell_id) {\n",
       "                        if (nbb_cells[i].get_text() == nbb_unformatted_code) {\n",
       "                             nbb_cells[i].set_text(nbb_formatted_code);\n",
       "                        }\n",
       "                        break;\n",
       "                    }\n",
       "                }\n",
       "            }, 500);\n",
       "            "
      ],
      "text/plain": [
       "<IPython.core.display.Javascript object>"
      ]
     },
     "metadata": {},
     "output_type": "display_data"
    }
   ],
   "source": [
    "bets_map = defaultdict(list)"
   ]
  },
  {
   "cell_type": "markdown",
   "id": "7340d61e",
   "metadata": {},
   "source": [
    "### Unibet"
   ]
  },
  {
   "cell_type": "code",
   "execution_count": 5,
   "id": "dae12a3e",
   "metadata": {},
   "outputs": [
    {
     "data": {
      "application/javascript": [
       "\n",
       "            setTimeout(function() {\n",
       "                var nbb_cell_id = 5;\n",
       "                var nbb_unformatted_code = \"bets_page = open(\\\"bets.html\\\", \\\"r\\\").read()\\nbets_soup = BeautifulSoup(bets_page, \\\"html.parser\\\")\";\n",
       "                var nbb_formatted_code = \"bets_page = open(\\\"bets.html\\\", \\\"r\\\").read()\\nbets_soup = BeautifulSoup(bets_page, \\\"html.parser\\\")\";\n",
       "                var nbb_cells = Jupyter.notebook.get_cells();\n",
       "                for (var i = 0; i < nbb_cells.length; ++i) {\n",
       "                    if (nbb_cells[i].input_prompt_number == nbb_cell_id) {\n",
       "                        if (nbb_cells[i].get_text() == nbb_unformatted_code) {\n",
       "                             nbb_cells[i].set_text(nbb_formatted_code);\n",
       "                        }\n",
       "                        break;\n",
       "                    }\n",
       "                }\n",
       "            }, 500);\n",
       "            "
      ],
      "text/plain": [
       "<IPython.core.display.Javascript object>"
      ]
     },
     "metadata": {},
     "output_type": "display_data"
    }
   ],
   "source": [
    "bets_page = open(\"bets.html\", \"r\").read()\n",
    "bets_soup = BeautifulSoup(bets_page, \"html.parser\")"
   ]
  },
  {
   "cell_type": "code",
   "execution_count": 6,
   "id": "e97f172d",
   "metadata": {},
   "outputs": [
    {
     "data": {
      "application/javascript": [
       "\n",
       "            setTimeout(function() {\n",
       "                var nbb_cell_id = 6;\n",
       "                var nbb_unformatted_code = \"singers = []\\nbets = []\\ndom = etree.HTML(str(bets_soup))\\nsingers_rows = dom.xpath(\\\"//span[@class='KambiBC-outcomes-list__label']\\\")\\nbets_rows = dom.xpath(\\\"//div[@class='OutcomeButton__Odds-sc-lxwzc0-6 gKPYii']\\\")\\nfor singer_row in singers_rows:\\n    singer = singer_row.xpath(\\\"span/text()\\\")[0].lower().strip()\\n    if singer in mapping:\\n        singer = mapping[singer]\\n    singers.append(singer)\\nfor bet_row in bets_rows:\\n    bet = bet_row.xpath(\\\"text()\\\")[0].lower().strip()\\n    bets.append(bet)\\n    \\nfor s,b in zip(singers,bets):\\n    bets_map[s].append(float(b))\";\n",
       "                var nbb_formatted_code = \"singers = []\\nbets = []\\ndom = etree.HTML(str(bets_soup))\\nsingers_rows = dom.xpath(\\\"//span[@class='KambiBC-outcomes-list__label']\\\")\\nbets_rows = dom.xpath(\\\"//div[@class='OutcomeButton__Odds-sc-lxwzc0-6 gKPYii']\\\")\\nfor singer_row in singers_rows:\\n    singer = singer_row.xpath(\\\"span/text()\\\")[0].lower().strip()\\n    if singer in mapping:\\n        singer = mapping[singer]\\n    singers.append(singer)\\nfor bet_row in bets_rows:\\n    bet = bet_row.xpath(\\\"text()\\\")[0].lower().strip()\\n    bets.append(bet)\\n\\nfor s, b in zip(singers, bets):\\n    bets_map[s].append(float(b))\";\n",
       "                var nbb_cells = Jupyter.notebook.get_cells();\n",
       "                for (var i = 0; i < nbb_cells.length; ++i) {\n",
       "                    if (nbb_cells[i].input_prompt_number == nbb_cell_id) {\n",
       "                        if (nbb_cells[i].get_text() == nbb_unformatted_code) {\n",
       "                             nbb_cells[i].set_text(nbb_formatted_code);\n",
       "                        }\n",
       "                        break;\n",
       "                    }\n",
       "                }\n",
       "            }, 500);\n",
       "            "
      ],
      "text/plain": [
       "<IPython.core.display.Javascript object>"
      ]
     },
     "metadata": {},
     "output_type": "display_data"
    }
   ],
   "source": [
    "singers = []\n",
    "bets = []\n",
    "dom = etree.HTML(str(bets_soup))\n",
    "singers_rows = dom.xpath(\"//span[@class='KambiBC-outcomes-list__label']\")\n",
    "bets_rows = dom.xpath(\"//div[@class='OutcomeButton__Odds-sc-lxwzc0-6 gKPYii']\")\n",
    "for singer_row in singers_rows:\n",
    "    singer = singer_row.xpath(\"span/text()\")[0].lower().strip()\n",
    "    if singer in mapping:\n",
    "        singer = mapping[singer]\n",
    "    singers.append(singer)\n",
    "for bet_row in bets_rows:\n",
    "    bet = bet_row.xpath(\"text()\")[0].lower().strip()\n",
    "    bets.append(bet)\n",
    "    \n",
    "for s,b in zip(singers,bets):\n",
    "    bets_map[s].append(float(b))"
   ]
  },
  {
   "cell_type": "markdown",
   "id": "c6d2a2bb",
   "metadata": {},
   "source": [
    "### Goldbet"
   ]
  },
  {
   "cell_type": "code",
   "execution_count": 7,
   "id": "5e9c0dc5",
   "metadata": {},
   "outputs": [
    {
     "data": {
      "application/javascript": [
       "\n",
       "            setTimeout(function() {\n",
       "                var nbb_cell_id = 7;\n",
       "                var nbb_unformatted_code = \"bets_page = open(\\\"bets_2.html\\\", \\\"r\\\").read()\\nbets_soup = BeautifulSoup(bets_page, \\\"html.parser\\\")\";\n",
       "                var nbb_formatted_code = \"bets_page = open(\\\"bets_2.html\\\", \\\"r\\\").read()\\nbets_soup = BeautifulSoup(bets_page, \\\"html.parser\\\")\";\n",
       "                var nbb_cells = Jupyter.notebook.get_cells();\n",
       "                for (var i = 0; i < nbb_cells.length; ++i) {\n",
       "                    if (nbb_cells[i].input_prompt_number == nbb_cell_id) {\n",
       "                        if (nbb_cells[i].get_text() == nbb_unformatted_code) {\n",
       "                             nbb_cells[i].set_text(nbb_formatted_code);\n",
       "                        }\n",
       "                        break;\n",
       "                    }\n",
       "                }\n",
       "            }, 500);\n",
       "            "
      ],
      "text/plain": [
       "<IPython.core.display.Javascript object>"
      ]
     },
     "metadata": {},
     "output_type": "display_data"
    }
   ],
   "source": [
    "bets_page = open(\"bets_2.html\", \"r\").read()\n",
    "bets_soup = BeautifulSoup(bets_page, \"html.parser\")"
   ]
  },
  {
   "cell_type": "code",
   "execution_count": 8,
   "id": "b428e58c",
   "metadata": {},
   "outputs": [
    {
     "data": {
      "application/javascript": [
       "\n",
       "            setTimeout(function() {\n",
       "                var nbb_cell_id = 8;\n",
       "                var nbb_unformatted_code = \"dom = etree.HTML(str(bets_soup))\\nrows_s = dom.xpath(\\\"//td[@class='match']\\\")\\nrows_b = dom.xpath(\\\"//td[@class='ow']\\\")\\nsingers = []\\nbets = []\\nfor row in rows_s:\\n    singer = row.xpath(\\\"a/text()\\\")[0].lower().replace('(classifica finale 2023)','').strip()\\n    if singer in mapping:\\n        singer = mapping[singer]\\n    singers.append(singer)\\nfor row in rows_b:\\n    if row.xpath(\\\"span/text()\\\"):\\n        bet = float(row.xpath(\\\"span/text()\\\")[0].lower().strip())\\n        bets.append(bet)\\nfor s,b in zip(singers,bets):\\n    bets_map[s].append(float(b))\";\n",
       "                var nbb_formatted_code = \"dom = etree.HTML(str(bets_soup))\\nrows_s = dom.xpath(\\\"//td[@class='match']\\\")\\nrows_b = dom.xpath(\\\"//td[@class='ow']\\\")\\nsingers = []\\nbets = []\\nfor row in rows_s:\\n    singer = (\\n        row.xpath(\\\"a/text()\\\")[0].lower().replace(\\\"(classifica finale 2023)\\\", \\\"\\\").strip()\\n    )\\n    if singer in mapping:\\n        singer = mapping[singer]\\n    singers.append(singer)\\nfor row in rows_b:\\n    if row.xpath(\\\"span/text()\\\"):\\n        bet = float(row.xpath(\\\"span/text()\\\")[0].lower().strip())\\n        bets.append(bet)\\nfor s, b in zip(singers, bets):\\n    bets_map[s].append(float(b))\";\n",
       "                var nbb_cells = Jupyter.notebook.get_cells();\n",
       "                for (var i = 0; i < nbb_cells.length; ++i) {\n",
       "                    if (nbb_cells[i].input_prompt_number == nbb_cell_id) {\n",
       "                        if (nbb_cells[i].get_text() == nbb_unformatted_code) {\n",
       "                             nbb_cells[i].set_text(nbb_formatted_code);\n",
       "                        }\n",
       "                        break;\n",
       "                    }\n",
       "                }\n",
       "            }, 500);\n",
       "            "
      ],
      "text/plain": [
       "<IPython.core.display.Javascript object>"
      ]
     },
     "metadata": {},
     "output_type": "display_data"
    }
   ],
   "source": [
    "dom = etree.HTML(str(bets_soup))\n",
    "rows_s = dom.xpath(\"//td[@class='match']\")\n",
    "rows_b = dom.xpath(\"//td[@class='ow']\")\n",
    "singers = []\n",
    "bets = []\n",
    "for row in rows_s:\n",
    "    singer = row.xpath(\"a/text()\")[0].lower().replace('(classifica finale 2023)','').strip()\n",
    "    if singer in mapping:\n",
    "        singer = mapping[singer]\n",
    "    singers.append(singer)\n",
    "for row in rows_b:\n",
    "    if row.xpath(\"span/text()\"):\n",
    "        bet = float(row.xpath(\"span/text()\")[0].lower().strip())\n",
    "        bets.append(bet)\n",
    "for s,b in zip(singers,bets):\n",
    "    bets_map[s].append(float(b))"
   ]
  },
  {
   "cell_type": "code",
   "execution_count": 9,
   "id": "39bf0133-5b94-4a16-934b-353d49d424ef",
   "metadata": {},
   "outputs": [
    {
     "data": {
      "text/plain": [
       "defaultdict(list,\n",
       "            {'marco mengoni': [2.75, 1.4],\n",
       "             'ultimo': [3.5, 1.4],\n",
       "             'giorgia': [5.0, 1.6],\n",
       "             'lazza': [10.0, 3.0],\n",
       "             'madame': [11.0, 5.0],\n",
       "             'elodie': [13.0, 3.0],\n",
       "             'colapesce e dimartino': [19.0],\n",
       "             'ariete': [21.0, 11.0],\n",
       "             'lda': [21.0, 26.0],\n",
       "             'levante': [21.0, 11.0],\n",
       "             'mara sattei': [21.0, 6.0],\n",
       "             'shari': [21.0, 26.0],\n",
       "             'tananai': [21.0, 7.0],\n",
       "             'modà': [23.0, 11.0],\n",
       "             'colla zio': [26.0, 26.0],\n",
       "             'coma_cose': [26.0, 13.0],\n",
       "             'leo gassmann': [26.0, 11.0],\n",
       "             'gianmaria': [26.0, 8.0],\n",
       "             'mr. rain': [31.0, 13.0],\n",
       "             'sethu': [34.0, 26.0],\n",
       "             'gianluca grignani': [41.0, 8.0],\n",
       "             'paola & chiara': [41.0, 26.0],\n",
       "             'anna oxa': [51.0, 36.0],\n",
       "             'articolo 31': [51.0, 13.0],\n",
       "             'olly': [51.0, 36.0],\n",
       "             'will': [51.0, 41.0],\n",
       "             'rosa chemical': [67.0, 26.0],\n",
       "             'i cugini di campagna': [101.0, 51.0],\n",
       "             'colapesce dimartino': [6.0]})"
      ]
     },
     "execution_count": 9,
     "metadata": {},
     "output_type": "execute_result"
    },
    {
     "data": {
      "application/javascript": [
       "\n",
       "            setTimeout(function() {\n",
       "                var nbb_cell_id = 9;\n",
       "                var nbb_unformatted_code = \"bets_map\";\n",
       "                var nbb_formatted_code = \"bets_map\";\n",
       "                var nbb_cells = Jupyter.notebook.get_cells();\n",
       "                for (var i = 0; i < nbb_cells.length; ++i) {\n",
       "                    if (nbb_cells[i].input_prompt_number == nbb_cell_id) {\n",
       "                        if (nbb_cells[i].get_text() == nbb_unformatted_code) {\n",
       "                             nbb_cells[i].set_text(nbb_formatted_code);\n",
       "                        }\n",
       "                        break;\n",
       "                    }\n",
       "                }\n",
       "            }, 500);\n",
       "            "
      ],
      "text/plain": [
       "<IPython.core.display.Javascript object>"
      ]
     },
     "metadata": {},
     "output_type": "display_data"
    }
   ],
   "source": [
    "bets_map"
   ]
  },
  {
   "cell_type": "code",
   "execution_count": 10,
   "id": "403d8f67",
   "metadata": {},
   "outputs": [
    {
     "data": {
      "application/javascript": [
       "\n",
       "            setTimeout(function() {\n",
       "                var nbb_cell_id = 10;\n",
       "                var nbb_unformatted_code = \"singers_page = open(\\\"singers.html\\\", \\\"r\\\").read()\\nsoup_singers = BeautifulSoup(singers_page, \\\"html.parser\\\")\";\n",
       "                var nbb_formatted_code = \"singers_page = open(\\\"singers.html\\\", \\\"r\\\").read()\\nsoup_singers = BeautifulSoup(singers_page, \\\"html.parser\\\")\";\n",
       "                var nbb_cells = Jupyter.notebook.get_cells();\n",
       "                for (var i = 0; i < nbb_cells.length; ++i) {\n",
       "                    if (nbb_cells[i].input_prompt_number == nbb_cell_id) {\n",
       "                        if (nbb_cells[i].get_text() == nbb_unformatted_code) {\n",
       "                             nbb_cells[i].set_text(nbb_formatted_code);\n",
       "                        }\n",
       "                        break;\n",
       "                    }\n",
       "                }\n",
       "            }, 500);\n",
       "            "
      ],
      "text/plain": [
       "<IPython.core.display.Javascript object>"
      ]
     },
     "metadata": {},
     "output_type": "display_data"
    }
   ],
   "source": [
    "singers_page = open(\"singers.html\", \"r\").read()\n",
    "soup_singers = BeautifulSoup(singers_page, \"html.parser\")"
   ]
  },
  {
   "cell_type": "code",
   "execution_count": 11,
   "id": "2d0bc82e",
   "metadata": {},
   "outputs": [
    {
     "data": {
      "application/javascript": [
       "\n",
       "            setTimeout(function() {\n",
       "                var nbb_cell_id = 11;\n",
       "                var nbb_unformatted_code = \"singers_map = {}\";\n",
       "                var nbb_formatted_code = \"singers_map = {}\";\n",
       "                var nbb_cells = Jupyter.notebook.get_cells();\n",
       "                for (var i = 0; i < nbb_cells.length; ++i) {\n",
       "                    if (nbb_cells[i].input_prompt_number == nbb_cell_id) {\n",
       "                        if (nbb_cells[i].get_text() == nbb_unformatted_code) {\n",
       "                             nbb_cells[i].set_text(nbb_formatted_code);\n",
       "                        }\n",
       "                        break;\n",
       "                    }\n",
       "                }\n",
       "            }, 500);\n",
       "            "
      ],
      "text/plain": [
       "<IPython.core.display.Javascript object>"
      ]
     },
     "metadata": {},
     "output_type": "display_data"
    }
   ],
   "source": [
    "singers_map = {}"
   ]
  },
  {
   "cell_type": "code",
   "execution_count": 12,
   "id": "92b6b7ee",
   "metadata": {},
   "outputs": [
    {
     "data": {
      "application/javascript": [
       "\n",
       "            setTimeout(function() {\n",
       "                var nbb_cell_id = 12;\n",
       "                var nbb_unformatted_code = \"dom_singers = etree.HTML(str(soup_singers))\\nrows_bets = dom_singers.xpath(\\\"//span[@class='MuiTypography-root MuiTypography-body1 css-rfihay']\\\")\\nrows_singers = dom_singers.xpath(\\\"//h6[@class='MuiTypography-root MuiTypography-subtitle1 css-122mmfo']\\\")\\nsingers = []\\nbets = []\\nfor row in rows_singers:\\n    singer = row.xpath(\\\"text()\\\")[0].lower().strip()\\n    singers.append(singer)\\n\\nfor row in rows_bets:\\n    bet = row.xpath(\\\"text()\\\")[0].lower().strip()\\n    bets.append(float(bet))\";\n",
       "                var nbb_formatted_code = \"dom_singers = etree.HTML(str(soup_singers))\\nrows_bets = dom_singers.xpath(\\n    \\\"//span[@class='MuiTypography-root MuiTypography-body1 css-rfihay']\\\"\\n)\\nrows_singers = dom_singers.xpath(\\n    \\\"//h6[@class='MuiTypography-root MuiTypography-subtitle1 css-122mmfo']\\\"\\n)\\nsingers = []\\nbets = []\\nfor row in rows_singers:\\n    singer = row.xpath(\\\"text()\\\")[0].lower().strip()\\n    singers.append(singer)\\n\\nfor row in rows_bets:\\n    bet = row.xpath(\\\"text()\\\")[0].lower().strip()\\n    bets.append(float(bet))\";\n",
       "                var nbb_cells = Jupyter.notebook.get_cells();\n",
       "                for (var i = 0; i < nbb_cells.length; ++i) {\n",
       "                    if (nbb_cells[i].input_prompt_number == nbb_cell_id) {\n",
       "                        if (nbb_cells[i].get_text() == nbb_unformatted_code) {\n",
       "                             nbb_cells[i].set_text(nbb_formatted_code);\n",
       "                        }\n",
       "                        break;\n",
       "                    }\n",
       "                }\n",
       "            }, 500);\n",
       "            "
      ],
      "text/plain": [
       "<IPython.core.display.Javascript object>"
      ]
     },
     "metadata": {},
     "output_type": "display_data"
    }
   ],
   "source": [
    "dom_singers = etree.HTML(str(soup_singers))\n",
    "rows_bets = dom_singers.xpath(\"//span[@class='MuiTypography-root MuiTypography-body1 css-rfihay']\")\n",
    "rows_singers = dom_singers.xpath(\"//h6[@class='MuiTypography-root MuiTypography-subtitle1 css-122mmfo']\")\n",
    "singers = []\n",
    "bets = []\n",
    "for row in rows_singers:\n",
    "    singer = row.xpath(\"text()\")[0].lower().strip()\n",
    "    singers.append(singer)\n",
    "\n",
    "for row in rows_bets:\n",
    "    bet = row.xpath(\"text()\")[0].lower().strip()\n",
    "    bets.append(float(bet))"
   ]
  },
  {
   "cell_type": "code",
   "execution_count": 13,
   "id": "f9ce1d5d-3dc9-438b-8a3a-e6c94ba8443e",
   "metadata": {},
   "outputs": [
    {
     "data": {
      "application/javascript": [
       "\n",
       "            setTimeout(function() {\n",
       "                var nbb_cell_id = 13;\n",
       "                var nbb_unformatted_code = \"for s,b in zip(singers,bets):\\n    singers_map[s] = b\";\n",
       "                var nbb_formatted_code = \"for s, b in zip(singers, bets):\\n    singers_map[s] = b\";\n",
       "                var nbb_cells = Jupyter.notebook.get_cells();\n",
       "                for (var i = 0; i < nbb_cells.length; ++i) {\n",
       "                    if (nbb_cells[i].input_prompt_number == nbb_cell_id) {\n",
       "                        if (nbb_cells[i].get_text() == nbb_unformatted_code) {\n",
       "                             nbb_cells[i].set_text(nbb_formatted_code);\n",
       "                        }\n",
       "                        break;\n",
       "                    }\n",
       "                }\n",
       "            }, 500);\n",
       "            "
      ],
      "text/plain": [
       "<IPython.core.display.Javascript object>"
      ]
     },
     "metadata": {},
     "output_type": "display_data"
    }
   ],
   "source": [
    "for s,b in zip(singers,bets):\n",
    "    singers_map[s] = b"
   ]
  },
  {
   "cell_type": "code",
   "execution_count": 14,
   "id": "20a4bef2",
   "metadata": {},
   "outputs": [
    {
     "data": {
      "text/plain": [
       "{'anna oxa': 18.0,\n",
       " 'ariete': 21.0,\n",
       " 'articolo 31': 21.0,\n",
       " 'colapesce dimartino': 20.0,\n",
       " 'colla zio': 16.0,\n",
       " 'coma_cose': 20.0,\n",
       " 'elodie': 24.0,\n",
       " 'gianluca grignani': 20.0,\n",
       " 'gianmaria': 17.0,\n",
       " 'giorgia': 25.0,\n",
       " 'i cugini di campagna': 21.0,\n",
       " 'lazza': 22.0,\n",
       " 'lda': 21.0,\n",
       " 'leo gassmann': 18.0,\n",
       " 'levante': 20.0,\n",
       " 'madame': 22.0,\n",
       " 'mara sattei': 21.0,\n",
       " 'marco mengoni': 26.0,\n",
       " 'modà': 18.0,\n",
       " 'mr. rain': 19.0,\n",
       " 'olly': 16.0,\n",
       " 'paola & chiara': 22.0,\n",
       " 'rosa chemical': 19.0,\n",
       " 'sethu': 16.0,\n",
       " 'shari': 17.0,\n",
       " 'tananai': 22.0,\n",
       " 'ultimo': 27.0,\n",
       " 'will': 16.0}"
      ]
     },
     "execution_count": 14,
     "metadata": {},
     "output_type": "execute_result"
    },
    {
     "data": {
      "application/javascript": [
       "\n",
       "            setTimeout(function() {\n",
       "                var nbb_cell_id = 14;\n",
       "                var nbb_unformatted_code = \"singers_map\";\n",
       "                var nbb_formatted_code = \"singers_map\";\n",
       "                var nbb_cells = Jupyter.notebook.get_cells();\n",
       "                for (var i = 0; i < nbb_cells.length; ++i) {\n",
       "                    if (nbb_cells[i].input_prompt_number == nbb_cell_id) {\n",
       "                        if (nbb_cells[i].get_text() == nbb_unformatted_code) {\n",
       "                             nbb_cells[i].set_text(nbb_formatted_code);\n",
       "                        }\n",
       "                        break;\n",
       "                    }\n",
       "                }\n",
       "            }, 500);\n",
       "            "
      ],
      "text/plain": [
       "<IPython.core.display.Javascript object>"
      ]
     },
     "metadata": {},
     "output_type": "display_data"
    }
   ],
   "source": [
    "singers_map"
   ]
  },
  {
   "cell_type": "code",
   "execution_count": 15,
   "id": "0d44ad90-0577-4883-84b8-f2af51f84620",
   "metadata": {},
   "outputs": [
    {
     "data": {
      "text/plain": [
       "defaultdict(list,\n",
       "            {'marco mengoni': [2.75, 1.4],\n",
       "             'ultimo': [3.5, 1.4],\n",
       "             'giorgia': [5.0, 1.6],\n",
       "             'lazza': [10.0, 3.0],\n",
       "             'madame': [11.0, 5.0],\n",
       "             'elodie': [13.0, 3.0],\n",
       "             'colapesce e dimartino': [19.0],\n",
       "             'ariete': [21.0, 11.0],\n",
       "             'lda': [21.0, 26.0],\n",
       "             'levante': [21.0, 11.0],\n",
       "             'mara sattei': [21.0, 6.0],\n",
       "             'shari': [21.0, 26.0],\n",
       "             'tananai': [21.0, 7.0],\n",
       "             'modà': [23.0, 11.0],\n",
       "             'colla zio': [26.0, 26.0],\n",
       "             'coma_cose': [26.0, 13.0],\n",
       "             'leo gassmann': [26.0, 11.0],\n",
       "             'gianmaria': [26.0, 8.0],\n",
       "             'mr. rain': [31.0, 13.0],\n",
       "             'sethu': [34.0, 26.0],\n",
       "             'gianluca grignani': [41.0, 8.0],\n",
       "             'paola & chiara': [41.0, 26.0],\n",
       "             'anna oxa': [51.0, 36.0],\n",
       "             'articolo 31': [51.0, 13.0],\n",
       "             'olly': [51.0, 36.0],\n",
       "             'will': [51.0, 41.0],\n",
       "             'rosa chemical': [67.0, 26.0],\n",
       "             'i cugini di campagna': [101.0, 51.0],\n",
       "             'colapesce dimartino': [6.0]})"
      ]
     },
     "execution_count": 15,
     "metadata": {},
     "output_type": "execute_result"
    },
    {
     "data": {
      "application/javascript": [
       "\n",
       "            setTimeout(function() {\n",
       "                var nbb_cell_id = 15;\n",
       "                var nbb_unformatted_code = \"bets_map\";\n",
       "                var nbb_formatted_code = \"bets_map\";\n",
       "                var nbb_cells = Jupyter.notebook.get_cells();\n",
       "                for (var i = 0; i < nbb_cells.length; ++i) {\n",
       "                    if (nbb_cells[i].input_prompt_number == nbb_cell_id) {\n",
       "                        if (nbb_cells[i].get_text() == nbb_unformatted_code) {\n",
       "                             nbb_cells[i].set_text(nbb_formatted_code);\n",
       "                        }\n",
       "                        break;\n",
       "                    }\n",
       "                }\n",
       "            }, 500);\n",
       "            "
      ],
      "text/plain": [
       "<IPython.core.display.Javascript object>"
      ]
     },
     "metadata": {},
     "output_type": "display_data"
    }
   ],
   "source": [
    "bets_map"
   ]
  },
  {
   "cell_type": "code",
   "execution_count": 17,
   "id": "f2c2fe96",
   "metadata": {},
   "outputs": [
    {
     "data": {
      "application/javascript": [
       "\n",
       "            setTimeout(function() {\n",
       "                var nbb_cell_id = 17;\n",
       "                var nbb_unformatted_code = \"singers = []\\ncosts = []\\nbets = []\\nscores = []\\n\\nfor k, v in singers_map.items():\\n    singers.append(k)\\n    costs.append(v)\\n    current_bet = sum(bets_map[k]) / len(bets_map[k])\\n    bets.append(current_bet)\\n    scores.append((1 / current_bet) / v)\";\n",
       "                var nbb_formatted_code = \"singers = []\\ncosts = []\\nbets = []\\nscores = []\\n\\nfor k, v in singers_map.items():\\n    singers.append(k)\\n    costs.append(v)\\n    current_bet = sum(bets_map[k]) / len(bets_map[k])\\n    bets.append(current_bet)\\n    scores.append((1 / current_bet) / v)\";\n",
       "                var nbb_cells = Jupyter.notebook.get_cells();\n",
       "                for (var i = 0; i < nbb_cells.length; ++i) {\n",
       "                    if (nbb_cells[i].input_prompt_number == nbb_cell_id) {\n",
       "                        if (nbb_cells[i].get_text() == nbb_unformatted_code) {\n",
       "                             nbb_cells[i].set_text(nbb_formatted_code);\n",
       "                        }\n",
       "                        break;\n",
       "                    }\n",
       "                }\n",
       "            }, 500);\n",
       "            "
      ],
      "text/plain": [
       "<IPython.core.display.Javascript object>"
      ]
     },
     "metadata": {},
     "output_type": "display_data"
    }
   ],
   "source": [
    "singers = []\n",
    "costs = []\n",
    "bets = []\n",
    "scores = []\n",
    "\n",
    "for k, v in singers_map.items():\n",
    "    singers.append(k)\n",
    "    costs.append(v)\n",
    "    current_bet = sum(bets_map[k]) / len(bets_map[k])\n",
    "    bets.append(current_bet)\n",
    "    scores.append((1 / current_bet) / v)"
   ]
  },
  {
   "cell_type": "code",
   "execution_count": 18,
   "id": "33e15101",
   "metadata": {
    "scrolled": true
   },
   "outputs": [
    {
     "data": {
      "text/plain": [
       "[('anna oxa', 18.0, 43.5, 0.001277139208173691),\n",
       " ('ariete', 21.0, 16.0, 0.002976190476190476),\n",
       " ('articolo 31', 21.0, 32.0, 0.001488095238095238),\n",
       " ('colapesce dimartino', 20.0, 6.0, 0.008333333333333333),\n",
       " ('colla zio', 16.0, 26.0, 0.002403846153846154),\n",
       " ('coma_cose', 20.0, 19.5, 0.002564102564102564),\n",
       " ('elodie', 24.0, 8.0, 0.005208333333333333),\n",
       " ('gianluca grignani', 20.0, 24.5, 0.002040816326530612),\n",
       " ('gianmaria', 17.0, 17.0, 0.0034602076124567475),\n",
       " ('giorgia', 25.0, 3.3, 0.012121212121212121),\n",
       " ('i cugini di campagna', 21.0, 76.0, 0.0006265664160401002),\n",
       " ('lazza', 22.0, 6.5, 0.006993006993006993),\n",
       " ('lda', 21.0, 23.5, 0.002026342451874367),\n",
       " ('leo gassmann', 18.0, 18.5, 0.003003003003003003),\n",
       " ('levante', 20.0, 16.0, 0.003125),\n",
       " ('madame', 22.0, 8.0, 0.005681818181818182),\n",
       " ('mara sattei', 21.0, 13.5, 0.003527336860670194),\n",
       " ('marco mengoni', 26.0, 2.075, 0.018535681186283594),\n",
       " ('modà', 18.0, 17.0, 0.0032679738562091504),\n",
       " ('mr. rain', 19.0, 22.0, 0.0023923444976076554),\n",
       " ('olly', 16.0, 43.5, 0.0014367816091954023),\n",
       " ('paola & chiara', 22.0, 33.5, 0.0013568521031207597),\n",
       " ('rosa chemical', 19.0, 46.5, 0.0011318619128466328),\n",
       " ('sethu', 16.0, 30.0, 0.0020833333333333333),\n",
       " ('shari', 17.0, 23.5, 0.0025031289111389237),\n",
       " ('tananai', 22.0, 14.0, 0.0032467532467532465),\n",
       " ('ultimo', 27.0, 2.45, 0.01511715797430083),\n",
       " ('will', 16.0, 46.0, 0.001358695652173913)]"
      ]
     },
     "execution_count": 18,
     "metadata": {},
     "output_type": "execute_result"
    },
    {
     "data": {
      "application/javascript": [
       "\n",
       "            setTimeout(function() {\n",
       "                var nbb_cell_id = 18;\n",
       "                var nbb_unformatted_code = \"list(zip(singers, costs, bets, scores))\";\n",
       "                var nbb_formatted_code = \"list(zip(singers, costs, bets, scores))\";\n",
       "                var nbb_cells = Jupyter.notebook.get_cells();\n",
       "                for (var i = 0; i < nbb_cells.length; ++i) {\n",
       "                    if (nbb_cells[i].input_prompt_number == nbb_cell_id) {\n",
       "                        if (nbb_cells[i].get_text() == nbb_unformatted_code) {\n",
       "                             nbb_cells[i].set_text(nbb_formatted_code);\n",
       "                        }\n",
       "                        break;\n",
       "                    }\n",
       "                }\n",
       "            }, 500);\n",
       "            "
      ],
      "text/plain": [
       "<IPython.core.display.Javascript object>"
      ]
     },
     "metadata": {},
     "output_type": "display_data"
    }
   ],
   "source": [
    "list(zip(singers, costs, bets, scores))"
   ]
  },
  {
   "cell_type": "code",
   "execution_count": 20,
   "id": "0cf28163",
   "metadata": {},
   "outputs": [
    {
     "data": {
      "application/javascript": [
       "\n",
       "            setTimeout(function() {\n",
       "                var nbb_cell_id = 20;\n",
       "                var nbb_unformatted_code = \"from pulp import LpProblem, LpMaximize, LpVariable, LpInteger\\n\\n\\ndef maximization_scores(singers, costs, bets, scores):\\n    P = range(len(singers))\\n    # Declare problem instance, maximization problem\\n    prob = LpProblem(\\\"Portfolio\\\", LpMaximize)\\n    # Declare decision variable x, which is 1 if a\\n    # singer is part of the portfolio and 0 else\\n    x = LpVariable.matrix(\\\"x\\\", list(P), 0, 1, LpInteger)\\n    # Objective function -> Maximize scores\\n    prob += sum(scores[p] * x[p] for p in P)\\n    ### Constraint definition\\n\\n    # constraint for the number of singers in the team\\n    prob += sum(x[p] for p in P) == 5\\n    # constraint on the total amount of credits\\n    prob += sum(costs[p] * x[p] for p in P) <= 100\\n    # constraint for having every player only once in the final team\\n    for elem in singers:\\n        prob += sum(x[p] for p in P if singers[p] == elem) <= 1\\n    # Start solving the problem instance\\n    prob.solve()\\n    # Extract solution\\n    portfolio = [(singers[p], costs[p], bets[p], scores[p]) for p in P if x[p].varValue]\\n    portfolio = sorted(portfolio, key=lambda x: x[3], reverse=True)\\n    return portfolio\";\n",
       "                var nbb_formatted_code = \"from pulp import LpProblem, LpMaximize, LpVariable, LpInteger\\n\\n\\ndef maximization_scores(singers, costs, bets, scores):\\n    P = range(len(singers))\\n    # Declare problem instance, maximization problem\\n    prob = LpProblem(\\\"Portfolio\\\", LpMaximize)\\n    # Declare decision variable x, which is 1 if a\\n    # singer is part of the portfolio and 0 else\\n    x = LpVariable.matrix(\\\"x\\\", list(P), 0, 1, LpInteger)\\n    # Objective function -> Maximize scores\\n    prob += sum(scores[p] * x[p] for p in P)\\n    ### Constraint definition\\n\\n    # constraint for the number of singers in the team\\n    prob += sum(x[p] for p in P) == 5\\n    # constraint on the total amount of credits\\n    prob += sum(costs[p] * x[p] for p in P) <= 100\\n    # constraint for having every player only once in the final team\\n    for elem in singers:\\n        prob += sum(x[p] for p in P if singers[p] == elem) <= 1\\n    # Start solving the problem instance\\n    prob.solve()\\n    # Extract solution\\n    portfolio = [(singers[p], costs[p], bets[p], scores[p]) for p in P if x[p].varValue]\\n    portfolio = sorted(portfolio, key=lambda x: x[3], reverse=True)\\n    return portfolio\";\n",
       "                var nbb_cells = Jupyter.notebook.get_cells();\n",
       "                for (var i = 0; i < nbb_cells.length; ++i) {\n",
       "                    if (nbb_cells[i].input_prompt_number == nbb_cell_id) {\n",
       "                        if (nbb_cells[i].get_text() == nbb_unformatted_code) {\n",
       "                             nbb_cells[i].set_text(nbb_formatted_code);\n",
       "                        }\n",
       "                        break;\n",
       "                    }\n",
       "                }\n",
       "            }, 500);\n",
       "            "
      ],
      "text/plain": [
       "<IPython.core.display.Javascript object>"
      ]
     },
     "metadata": {},
     "output_type": "display_data"
    }
   ],
   "source": [
    "from pulp import LpProblem, LpMaximize, LpVariable, LpInteger\n",
    "\n",
    "\n",
    "def maximization_scores(singers, costs, bets, scores):\n",
    "    P = range(len(singers))\n",
    "    # Declare problem instance, maximization problem\n",
    "    prob = LpProblem(\"Portfolio\", LpMaximize)\n",
    "    # Declare decision variable x, which is 1 if a\n",
    "    # singer is part of the portfolio and 0 else\n",
    "    x = LpVariable.matrix(\"x\", list(P), 0, 1, LpInteger)\n",
    "    # Objective function -> Maximize scores\n",
    "    prob += sum(scores[p] * x[p] for p in P)\n",
    "    ### Constraint definition\n",
    "\n",
    "    # constraint for the number of singers in the team\n",
    "    prob += sum(x[p] for p in P) == 5\n",
    "    # constraint on the total amount of credits\n",
    "    prob += sum(costs[p] * x[p] for p in P) <= 100\n",
    "    # constraint for having every player only once in the final team\n",
    "    for elem in singers:\n",
    "        prob += sum(x[p] for p in P if singers[p] == elem) <= 1\n",
    "    # Start solving the problem instance\n",
    "    prob.solve()\n",
    "    # Extract solution\n",
    "    portfolio = [(singers[p], costs[p], bets[p], scores[p]) for p in P if x[p].varValue]\n",
    "    portfolio = sorted(portfolio, key=lambda x: x[3], reverse=True)\n",
    "    return portfolio"
   ]
  },
  {
   "cell_type": "code",
   "execution_count": 21,
   "id": "2047b15c",
   "metadata": {},
   "outputs": [
    {
     "name": "stdout",
     "output_type": "stream",
     "text": [
      "Welcome to the CBC MILP Solver \n",
      "Version: 2.10.3 \n",
      "Build Date: Dec 15 2019 \n",
      "\n",
      "command line - /Users/silvio/miniconda3/envs/work/lib/python3.9/site-packages/pulp/solverdir/cbc/osx/64/cbc /var/folders/cp/kpt5pstd3hx5sy161xrz7pp40000gn/T/f81905ce69784826a9039ede0ed8a657-pulp.mps max timeMode elapsed branch printingOptions all solution /var/folders/cp/kpt5pstd3hx5sy161xrz7pp40000gn/T/f81905ce69784826a9039ede0ed8a657-pulp.sol (default strategy 1)\n",
      "At line 2 NAME          MODEL\n",
      "At line 3 ROWS\n",
      "At line 35 COLUMNS\n",
      "At line 204 RHS\n",
      "At line 235 BOUNDS\n",
      "At line 264 ENDATA\n",
      "Problem MODEL has 30 rows, 28 columns and 84 elements\n",
      "Coin0008I MODEL read with 0 errors\n",
      "Option for timeMode changed from cpu to elapsed\n",
      "Continuous objective value is 0.0407409 - 0.00 seconds\n",
      "Cgl0004I processed model has 2 rows, 28 columns (28 integer (28 of which binary)) and 56 elements\n",
      "Cbc0038I Initial state - 2 integers unsatisfied sum - 0.909091\n",
      "Cbc0038I Solution found of -0.0348164\n",
      "Cbc0038I Before mini branch and bound, 26 integers at bound fixed and 0 continuous\n",
      "Cbc0038I Full problem 2 rows 28 columns, reduced to 0 rows 0 columns\n",
      "Cbc0038I Mini branch and bound did not improve solution (0.00 seconds)\n",
      "Cbc0038I Round again with cutoff of -0.0354178\n",
      "Cbc0038I Reduced cost fixing fixed 6 variables on major pass 2\n",
      "Cbc0038I Pass   1: suminf.    0.09462 (2) obj. -0.0354178 iterations 2\n",
      "Cbc0038I Pass   2: suminf.    0.90909 (2) obj. -0.0405952 iterations 1\n",
      "Cbc0038I Pass   3: suminf.    0.38437 (2) obj. -0.0354178 iterations 6\n",
      "Cbc0038I Pass   4: suminf.    0.38437 (2) obj. -0.0354178 iterations 0\n",
      "Cbc0038I Pass   5: suminf.    0.54545 (2) obj. -0.0392033 iterations 2\n",
      "Cbc0038I Solution found of -0.0357361\n",
      "Cbc0038I Before mini branch and bound, 23 integers at bound fixed and 0 continuous\n",
      "Cbc0038I Full problem 2 rows 28 columns, reduced to 2 rows 5 columns\n",
      "Cbc0038I Mini branch and bound did not improve solution (0.00 seconds)\n",
      "Cbc0038I Round again with cutoff of -0.036745\n",
      "Cbc0038I Reduced cost fixing fixed 12 variables on major pass 3\n",
      "Cbc0038I Pass   6: suminf.    0.30340 (2) obj. -0.036745 iterations 0\n",
      "Cbc0038I Pass   7: suminf.    0.90909 (2) obj. -0.0405952 iterations 1\n",
      "Cbc0038I Pass   8: suminf.    0.72755 (3) obj. -0.036745 iterations 4\n",
      "Cbc0038I Pass   9: suminf.    0.39521 (2) obj. -0.036745 iterations 2\n",
      "Cbc0038I Pass  10: suminf.    0.90909 (2) obj. -0.0403882 iterations 2\n",
      "Cbc0038I Pass  11: suminf.    0.37648 (2) obj. -0.036745 iterations 1\n",
      "Cbc0038I Pass  12: suminf.    0.18103 (2) obj. -0.036745 iterations 5\n",
      "Cbc0038I Pass  13: suminf.    0.07464 (3) obj. -0.036745 iterations 2\n",
      "Cbc0038I Pass  14: suminf.    0.90909 (2) obj. -0.0390029 iterations 2\n",
      "Cbc0038I Pass  15: suminf.    0.90909 (2) obj. -0.0390029 iterations 0\n",
      "Cbc0038I Pass  16: suminf.    0.68371 (2) obj. -0.036745 iterations 2\n",
      "Cbc0038I Pass  17: suminf.    0.90909 (2) obj. -0.0395304 iterations 1\n",
      "Cbc0038I Pass  18: suminf.    1.00000 (3) obj. -0.036745 iterations 3\n",
      "Cbc0038I Pass  19: suminf.    1.00000 (3) obj. -0.036745 iterations 2\n",
      "Cbc0038I Pass  20: suminf.    0.72727 (2) obj. -0.0382576 iterations 1\n",
      "Cbc0038I Pass  21: suminf.    0.45215 (2) obj. -0.036745 iterations 2\n",
      "Cbc0038I Pass  22: suminf.    0.72727 (2) obj. -0.0386873 iterations 2\n",
      "Cbc0038I Pass  23: suminf.    0.44332 (2) obj. -0.036745 iterations 1\n",
      "Cbc0038I Pass  24: suminf.    1.00000 (3) obj. -0.036745 iterations 2\n",
      "Cbc0038I Pass  25: suminf.    0.72727 (2) obj. -0.0383357 iterations 1\n",
      "Cbc0038I Pass  26: suminf.    0.14423 (2) obj. -0.036745 iterations 4\n",
      "Cbc0038I Pass  27: suminf.    0.14423 (2) obj. -0.036745 iterations 0\n",
      "Cbc0038I Pass  28: suminf.    0.54545 (2) obj. -0.0392033 iterations 2\n",
      "Cbc0038I Pass  29: suminf.    0.15872 (2) obj. -0.036745 iterations 1\n",
      "Cbc0038I Pass  30: suminf.    0.97979 (3) obj. -0.036745 iterations 2\n",
      "Cbc0038I Pass  31: suminf.    0.73993 (3) obj. -0.036745 iterations 1\n",
      "Cbc0038I Pass  32: suminf.    0.54545 (2) obj. -0.0392033 iterations 2\n",
      "Cbc0038I Pass  33: suminf.    0.51779 (3) obj. -0.036745 iterations 3\n",
      "Cbc0038I Pass  34: suminf.    0.51400 (3) obj. -0.036745 iterations 1\n",
      "Cbc0038I Pass  35: suminf.    0.85939 (3) obj. -0.036745 iterations 5\n",
      "Cbc0038I Rounding solution of -0.0376246 is better than previous of -0.0357361\n",
      "\n",
      "Cbc0038I Before mini branch and bound, 15 integers at bound fixed and 0 continuous\n",
      "Cbc0038I Full problem 2 rows 28 columns, reduced to 2 rows 9 columns\n",
      "Cbc0038I Mini branch and bound improved solution from -0.0376246 to -0.0383492 (0.01 seconds)\n",
      "Cbc0038I Round again with cutoff of -0.0390737\n",
      "Cbc0038I Reduced cost fixing fixed 17 variables on major pass 4\n",
      "Cbc0038I Pass  35: suminf.    0.66974 (2) obj. -0.0390737 iterations 0\n",
      "Cbc0038I Pass  36: suminf.    0.90909 (2) obj. -0.0405952 iterations 1\n",
      "Cbc0038I Pass  37: suminf.    0.83512 (3) obj. -0.0390737 iterations 4\n",
      "Cbc0038I Pass  38: suminf.    0.66667 (2) obj. -0.0391931 iterations 2\n",
      "Cbc0038I Pass  39: suminf.    0.92435 (2) obj. -0.0390737 iterations 3\n",
      "Cbc0038I Pass  40: suminf.    0.90909 (2) obj. -0.040255 iterations 2\n",
      "Cbc0038I Pass  41: suminf.    0.91821 (2) obj. -0.0390737 iterations 1\n",
      "Cbc0038I Pass  42: suminf.    0.91821 (2) obj. -0.0390737 iterations 0\n",
      "Cbc0038I Pass  43: suminf.    0.77068 (3) obj. -0.0390737 iterations 1\n",
      "Cbc0038I Pass  44: suminf.    0.77068 (3) obj. -0.0390737 iterations 0\n",
      "Cbc0038I Pass  45: suminf.    0.91821 (2) obj. -0.0390737 iterations 1\n",
      "Cbc0038I Pass  46: suminf.    0.99925 (3) obj. -0.0390737 iterations 4\n",
      "Cbc0038I Pass  47: suminf.    0.90909 (2) obj. -0.0396494 iterations 2\n",
      "Cbc0038I Pass  48: suminf.    0.92435 (2) obj. -0.0390737 iterations 2\n",
      "Cbc0038I Pass  49: suminf.    0.90909 (2) obj. -0.040255 iterations 2\n",
      "Cbc0038I Pass  50: suminf.    0.91821 (2) obj. -0.0390737 iterations 1\n",
      "Cbc0038I Pass  51: suminf.    0.86016 (2) obj. -0.0390737 iterations 2\n",
      "Cbc0038I Pass  52: suminf.    0.79455 (3) obj. -0.0390737 iterations 1\n",
      "Cbc0038I Pass  53: suminf.    0.90909 (2) obj. -0.0399023 iterations 3\n",
      "Cbc0038I Pass  54: suminf.    0.90909 (2) obj. -0.0399023 iterations 0\n",
      "Cbc0038I Pass  55: suminf.    0.90909 (2) obj. -0.0399023 iterations 0\n",
      "Cbc0038I Pass  56: suminf.    0.90278 (3) obj. -0.0390737 iterations 1\n",
      "Cbc0038I Pass  57: suminf.    0.77068 (3) obj. -0.0390737 iterations 1\n",
      "Cbc0038I Pass  58: suminf.    0.91821 (2) obj. -0.0390737 iterations 1\n",
      "Cbc0038I Pass  59: suminf.    0.91821 (2) obj. -0.0390737 iterations 0\n",
      "Cbc0038I Pass  60: suminf.    0.90909 (2) obj. -0.040255 iterations 1\n",
      "Cbc0038I Pass  61: suminf.    1.00000 (3) obj. -0.0390737 iterations 4\n",
      "Cbc0038I Pass  62: suminf.    1.00000 (3) obj. -0.0390737 iterations 0\n",
      "Cbc0038I Pass  63: suminf.    1.00000 (3) obj. -0.0390737 iterations 1\n",
      "Cbc0038I Pass  64: suminf.    0.90909 (2) obj. -0.0396494 iterations 1\n",
      "Cbc0038I No solution found this major pass\n",
      "Cbc0038I Before mini branch and bound, 19 integers at bound fixed and 0 continuous\n",
      "Cbc0038I Full problem 2 rows 28 columns, reduced to 2 rows 9 columns\n",
      "Cbc0038I Mini branch and bound improved solution from -0.0383492 to -0.0386043 (0.01 seconds)\n",
      "Cbc0038I Round again with cutoff of -0.0395739\n",
      "Cbc0038I Reduced cost fixing fixed 20 variables on major pass 5\n",
      "Cbc0038I Pass  64: suminf.    0.74842 (2) obj. -0.0395739 iterations 0\n",
      "Cbc0038I Pass  65: suminf.    0.90909 (2) obj. -0.0405952 iterations 1\n",
      "Cbc0038I Pass  66: suminf.    0.85013 (2) obj. -0.0395739 iterations 4\n",
      "Cbc0038I Pass  67: suminf.    0.79004 (2) obj. -0.0395739 iterations 1\n",
      "Cbc0038I Pass  68: suminf.    0.90909 (2) obj. -0.0403882 iterations 1\n",
      "Cbc0038I Pass  69: suminf.    0.90909 (2) obj. -0.0398705 iterations 2\n",
      "Cbc0038I Pass  70: suminf.    0.79690 (2) obj. -0.0395739 iterations 2\n",
      "Cbc0038I Pass  71: suminf.    0.79690 (2) obj. -0.0395739 iterations 0\n",
      "Cbc0038I Pass  72: suminf.    0.79690 (2) obj. -0.0395739 iterations 0\n",
      "Cbc0038I Pass  73: suminf.    0.79690 (2) obj. -0.0395739 iterations 0\n",
      "Cbc0038I Pass  74: suminf.    0.79690 (2) obj. -0.0395739 iterations 0\n",
      "Cbc0038I Pass  75: suminf.    0.86242 (2) obj. -0.0395739 iterations 1\n",
      "Cbc0038I Pass  76: suminf.    1.00000 (3) obj. -0.0395739 iterations 4\n",
      "Cbc0038I Pass  77: suminf.    0.91923 (3) obj. -0.0395739 iterations 2\n",
      "Cbc0038I Pass  78: suminf.    0.90909 (3) obj. -0.0395739 iterations 1\n",
      "Cbc0038I Pass  79: suminf.    0.99705 (2) obj. -0.0395739 iterations 2\n",
      "Cbc0038I Pass  80: suminf.    0.99705 (2) obj. -0.0395739 iterations 0\n",
      "Cbc0038I Pass  81: suminf.    0.90909 (2) obj. -0.040255 iterations 2\n",
      "Cbc0038I Pass  82: suminf.    0.99133 (2) obj. -0.0395739 iterations 1\n",
      "Cbc0038I Pass  83: suminf.    1.00000 (2) obj. -0.0399983 iterations 4\n",
      "Cbc0038I Pass  84: suminf.    0.90909 (2) obj. -0.0399023 iterations 1\n",
      "Cbc0038I Pass  85: suminf.    0.90909 (2) obj. -0.0399023 iterations 0\n",
      "Cbc0038I Pass  86: suminf.    0.90909 (2) obj. -0.0399023 iterations 0\n",
      "Cbc0038I Pass  87: suminf.    0.90909 (2) obj. -0.0399023 iterations 0\n",
      "Cbc0038I Pass  88: suminf.    0.90909 (2) obj. -0.0399023 iterations 0\n",
      "Cbc0038I Pass  89: suminf.    0.90909 (2) obj. -0.0399023 iterations 0\n",
      "Cbc0038I Pass  90: suminf.    0.95080 (3) obj. -0.0395739 iterations 1\n",
      "Cbc0038I Pass  91: suminf.    0.74225 (3) obj. -0.0395739 iterations 1\n",
      "Cbc0038I Pass  92: suminf.    0.74842 (2) obj. -0.0395739 iterations 6\n",
      "Cbc0038I Pass  93: suminf.    0.74842 (2) obj. -0.0395739 iterations 0\n",
      "Cbc0038I No solution found this major pass\n",
      "Cbc0038I Before mini branch and bound, 21 integers at bound fixed and 0 continuous\n",
      "Cbc0038I Full problem 2 rows 28 columns, reduced to 2 rows 7 columns\n",
      "Cbc0038I Mini branch and bound did not improve solution (0.01 seconds)\n",
      "Cbc0038I After 0.01 seconds - Feasibility pump exiting with objective of -0.0386043 - took 0.00 seconds\n",
      "Cbc0012I Integer solution of -0.03860428 found by feasibility pump after 0 iterations and 0 nodes (0.01 seconds)\n",
      "Cbc0038I Full problem 2 rows 28 columns, reduced to 2 rows 4 columns\n",
      "Cbc0031I 1 added rows had average density of 10\n",
      "Cbc0013I At root node, 5 cuts changed objective from -0.040740867 to -0.03860428 in 1 passes\n",
      "Cbc0014I Cut generator 0 (Probing) - 0 row cuts average 0.0 elements, 0 column cuts (0 active)  in 0.000 seconds - new frequency is -100\n",
      "Cbc0014I Cut generator 1 (Gomory) - 0 row cuts average 0.0 elements, 0 column cuts (0 active)  in 0.000 seconds - new frequency is -100\n",
      "Cbc0014I Cut generator 2 (Knapsack) - 1 row cuts average 5.0 elements, 0 column cuts (0 active)  in 0.000 seconds - new frequency is 1\n",
      "Cbc0014I Cut generator 3 (Clique) - 0 row cuts average 0.0 elements, 0 column cuts (0 active)  in 0.000 seconds - new frequency is -100\n",
      "Cbc0014I Cut generator 4 (MixedIntegerRounding2) - 0 row cuts average 0.0 elements, 0 column cuts (0 active)  in 0.000 seconds - new frequency is -100\n",
      "Cbc0014I Cut generator 5 (FlowCover) - 0 row cuts average 0.0 elements, 0 column cuts (0 active)  in 0.000 seconds - new frequency is -100\n",
      "Cbc0014I Cut generator 6 (TwoMirCuts) - 2 row cuts average 10.0 elements, 0 column cuts (0 active)  in 0.000 seconds - new frequency is -100\n",
      "Cbc0014I Cut generator 7 (ZeroHalf) - 2 row cuts average 28.0 elements, 0 column cuts (0 active)  in 0.000 seconds - new frequency is -100\n",
      "Cbc0001I Search completed - best objective -0.038604280407126, took 0 iterations and 0 nodes (0.01 seconds)\n",
      "Cbc0035I Maximum depth 0, 17 variables fixed on reduced cost\n",
      "Cuts at root node changed objective from -0.0407409 to -0.0386043\n",
      "Probing was tried 1 times and created 0 cuts of which 0 were active after adding rounds of cuts (0.000 seconds)\n",
      "Gomory was tried 1 times and created 0 cuts of which 0 were active after adding rounds of cuts (0.000 seconds)\n",
      "Knapsack was tried 1 times and created 1 cuts of which 0 were active after adding rounds of cuts (0.000 seconds)\n",
      "Clique was tried 1 times and created 0 cuts of which 0 were active after adding rounds of cuts (0.000 seconds)\n",
      "MixedIntegerRounding2 was tried 1 times and created 0 cuts of which 0 were active after adding rounds of cuts (0.000 seconds)\n",
      "FlowCover was tried 1 times and created 0 cuts of which 0 were active after adding rounds of cuts (0.000 seconds)\n",
      "TwoMirCuts was tried 1 times and created 2 cuts of which 0 were active after adding rounds of cuts (0.000 seconds)\n",
      "ZeroHalf was tried 1 times and created 2 cuts of which 0 were active after adding rounds of cuts (0.000 seconds)\n",
      "\n",
      "Result - Optimal solution found\n",
      "\n",
      "Objective value:                0.03860428\n",
      "Enumerated nodes:               0\n",
      "Total iterations:               0\n",
      "Time (CPU seconds):             0.01\n",
      "Time (Wallclock seconds):       0.01\n",
      "\n",
      "Option for printingOptions changed from normal to all\n",
      "Total time (CPU seconds):       0.01   (Wallclock seconds):       0.01\n",
      "\n"
     ]
    },
    {
     "data": {
      "application/javascript": [
       "\n",
       "            setTimeout(function() {\n",
       "                var nbb_cell_id = 21;\n",
       "                var nbb_unformatted_code = \"portfolio = maximization_scores(singers, costs, bets, scores)\";\n",
       "                var nbb_formatted_code = \"portfolio = maximization_scores(singers, costs, bets, scores)\";\n",
       "                var nbb_cells = Jupyter.notebook.get_cells();\n",
       "                for (var i = 0; i < nbb_cells.length; ++i) {\n",
       "                    if (nbb_cells[i].input_prompt_number == nbb_cell_id) {\n",
       "                        if (nbb_cells[i].get_text() == nbb_unformatted_code) {\n",
       "                             nbb_cells[i].set_text(nbb_formatted_code);\n",
       "                        }\n",
       "                        break;\n",
       "                    }\n",
       "                }\n",
       "            }, 500);\n",
       "            "
      ],
      "text/plain": [
       "<IPython.core.display.Javascript object>"
      ]
     },
     "metadata": {},
     "output_type": "display_data"
    }
   ],
   "source": [
    "portfolio = maximization_scores(singers, costs, bets, scores)"
   ]
  },
  {
   "cell_type": "code",
   "execution_count": 22,
   "id": "cf017673",
   "metadata": {},
   "outputs": [
    {
     "data": {
      "text/plain": [
       "[('marco mengoni', 26.0, 2.075, 0.018535681186283594),\n",
       " ('giorgia', 25.0, 3.3, 0.012121212121212121),\n",
       " ('gianmaria', 17.0, 17.0, 0.0034602076124567475),\n",
       " ('colla zio', 16.0, 26.0, 0.002403846153846154),\n",
       " ('sethu', 16.0, 30.0, 0.0020833333333333333)]"
      ]
     },
     "execution_count": 22,
     "metadata": {},
     "output_type": "execute_result"
    },
    {
     "data": {
      "application/javascript": [
       "\n",
       "            setTimeout(function() {\n",
       "                var nbb_cell_id = 22;\n",
       "                var nbb_unformatted_code = \"portfolio\";\n",
       "                var nbb_formatted_code = \"portfolio\";\n",
       "                var nbb_cells = Jupyter.notebook.get_cells();\n",
       "                for (var i = 0; i < nbb_cells.length; ++i) {\n",
       "                    if (nbb_cells[i].input_prompt_number == nbb_cell_id) {\n",
       "                        if (nbb_cells[i].get_text() == nbb_unformatted_code) {\n",
       "                             nbb_cells[i].set_text(nbb_formatted_code);\n",
       "                        }\n",
       "                        break;\n",
       "                    }\n",
       "                }\n",
       "            }, 500);\n",
       "            "
      ],
      "text/plain": [
       "<IPython.core.display.Javascript object>"
      ]
     },
     "metadata": {},
     "output_type": "display_data"
    }
   ],
   "source": [
    "portfolio"
   ]
  },
  {
   "cell_type": "code",
   "execution_count": 23,
   "id": "9120a834",
   "metadata": {},
   "outputs": [
    {
     "data": {
      "text/plain": [
       "[('marco mengoni', 26.0, 0.018535681186283594),\n",
       " ('ultimo', 27.0, 0.01511715797430083),\n",
       " ('giorgia', 25.0, 0.012121212121212121),\n",
       " ('colapesce dimartino', 20.0, 0.008333333333333333),\n",
       " ('lazza', 22.0, 0.006993006993006993),\n",
       " ('madame', 22.0, 0.005681818181818182),\n",
       " ('elodie', 24.0, 0.005208333333333333),\n",
       " ('mara sattei', 21.0, 0.003527336860670194),\n",
       " ('gianmaria', 17.0, 0.0034602076124567475),\n",
       " ('modà', 18.0, 0.0032679738562091504),\n",
       " ('tananai', 22.0, 0.0032467532467532465),\n",
       " ('levante', 20.0, 0.003125),\n",
       " ('leo gassmann', 18.0, 0.003003003003003003),\n",
       " ('ariete', 21.0, 0.002976190476190476),\n",
       " ('coma_cose', 20.0, 0.002564102564102564),\n",
       " ('shari', 17.0, 0.0025031289111389237),\n",
       " ('colla zio', 16.0, 0.002403846153846154),\n",
       " ('mr. rain', 19.0, 0.0023923444976076554),\n",
       " ('sethu', 16.0, 0.0020833333333333333),\n",
       " ('gianluca grignani', 20.0, 0.002040816326530612),\n",
       " ('lda', 21.0, 0.002026342451874367),\n",
       " ('articolo 31', 21.0, 0.001488095238095238),\n",
       " ('olly', 16.0, 0.0014367816091954023),\n",
       " ('will', 16.0, 0.001358695652173913),\n",
       " ('paola & chiara', 22.0, 0.0013568521031207597),\n",
       " ('anna oxa', 18.0, 0.001277139208173691),\n",
       " ('rosa chemical', 19.0, 0.0011318619128466328),\n",
       " ('i cugini di campagna', 21.0, 0.0006265664160401002)]"
      ]
     },
     "execution_count": 23,
     "metadata": {},
     "output_type": "execute_result"
    },
    {
     "data": {
      "application/javascript": [
       "\n",
       "            setTimeout(function() {\n",
       "                var nbb_cell_id = 23;\n",
       "                var nbb_unformatted_code = \"sorted(list(zip(singers, costs, scores)), key=lambda x: x[2], reverse=True)\";\n",
       "                var nbb_formatted_code = \"sorted(list(zip(singers, costs, scores)), key=lambda x: x[2], reverse=True)\";\n",
       "                var nbb_cells = Jupyter.notebook.get_cells();\n",
       "                for (var i = 0; i < nbb_cells.length; ++i) {\n",
       "                    if (nbb_cells[i].input_prompt_number == nbb_cell_id) {\n",
       "                        if (nbb_cells[i].get_text() == nbb_unformatted_code) {\n",
       "                             nbb_cells[i].set_text(nbb_formatted_code);\n",
       "                        }\n",
       "                        break;\n",
       "                    }\n",
       "                }\n",
       "            }, 500);\n",
       "            "
      ],
      "text/plain": [
       "<IPython.core.display.Javascript object>"
      ]
     },
     "metadata": {},
     "output_type": "display_data"
    }
   ],
   "source": [
    "sorted(list(zip(singers, costs, scores)), key=lambda x: x[2], reverse=True)"
   ]
  },
  {
   "cell_type": "code",
   "execution_count": null,
   "id": "13beaeba",
   "metadata": {},
   "outputs": [],
   "source": []
  }
 ],
 "metadata": {
  "kernelspec": {
   "display_name": "work",
   "language": "python",
   "name": "work"
  },
  "language_info": {
   "codemirror_mode": {
    "name": "ipython",
    "version": 3
   },
   "file_extension": ".py",
   "mimetype": "text/x-python",
   "name": "python",
   "nbconvert_exporter": "python",
   "pygments_lexer": "ipython3",
   "version": "3.9.12"
  }
 },
 "nbformat": 4,
 "nbformat_minor": 5
}
